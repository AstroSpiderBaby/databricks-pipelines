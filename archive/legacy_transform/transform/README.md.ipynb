{
 "cells": [
  {
   "cell_type": "code",
   "execution_count": 0,
   "metadata": {
    "application/vnd.databricks.v1+cell": {
     "cellMetadata": {},
     "inputWidgets": {},
     "nuid": "b7cfe883-f0c8-469d-a0d8-18f729c7be79",
     "showTitle": false,
     "tableResultSettingsMap": {},
     "title": ""
    }
   },
   "outputs": [],
   "source": [
    "# Transform Layer\n",
    "\n",
    "This folder contains helper scripts for transformation and merging logic between layers (e.g., joining tables, combining DataFrames).\n",
    "\n",
    "Useful for intermediate steps that don’t belong fully to a single Medallion layer.\n",
    "\n",
    "**Scripts:**\n",
    "- `transform_and_merge.py` – prepares the final joined dataset combining inventory, shipments, and vendors.\n"
   ]
  }
 ],
 "metadata": {
  "application/vnd.databricks.v1+notebook": {
   "computePreferences": null,
   "dashboards": [],
   "environmentMetadata": {
    "base_environment": "",
    "environment_version": "2"
   },
   "inputWidgetPreferences": null,
   "language": "python",
   "notebookMetadata": {
    "pythonIndentUnit": 4
   },
   "notebookName": "README.md",
   "widgets": {}
  },
  "language_info": {
   "name": "python"
  }
 },
 "nbformat": 4,
 "nbformat_minor": 0
}
