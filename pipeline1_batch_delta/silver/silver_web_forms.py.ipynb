{
 "cells": [
  {
   "cell_type": "code",
   "execution_count": 0,
   "metadata": {
    "application/vnd.databricks.v1+cell": {
     "cellMetadata": {
      "byteLimit": 2048000,
      "rowLimit": 10000
     },
     "inputWidgets": {},
     "nuid": "1d80e20c-80fb-44de-934c-0b0590e10b46",
     "showTitle": false,
     "tableResultSettingsMap": {},
     "title": ""
    }
   },
   "outputs": [],
   "source": [
    "from pyspark.sql import SparkSession\n",
    "from pyspark.sql.functions import to_timestamp, col\n",
    "\n",
    "spark = SparkSession.builder.getOrCreate()\n",
    "\n",
    "# Step 1: Load Bronze Data\n",
    "df_raw = spark.read.format(\"delta\").load(\"/mnt/delta/bronze/web_form_submissions\")\n",
    "\n",
    "# Step 2: Clean & Transform\n",
    "df_clean = df_raw.select(\n",
    "    \"submission_id\",\n",
    "    \"full_name\",\n",
    "    \"email\",\n",
    "    \"phone\",\n",
    "    \"address\",\n",
    "    \"comments\",\n",
    "    to_timestamp(\"submitted_at\").alias(\"submitted_at\"),\n",
    "    \"source_file\"\n",
    ").dropna(subset=[\"submission_id\", \"submitted_at\"])\n",
    "\n",
    "# Step 3: Write Silver\n",
    "df_clean.write.format(\"delta\") \\\n",
    "    .mode(\"overwrite\") \\\n",
    "    .option(\"mergeSchema\", \"true\") \\\n",
    "    .save(\"/mnt/delta/silver/web_forms_clean\")\n",
    "\n",
    "# Optional Table Registration\n",
    "spark.sql(\"DROP TABLE IF EXISTS web_forms_clean\")\n",
    "spark.sql(\"\"\"\n",
    "    CREATE TABLE web_forms_clean\n",
    "    USING DELTA\n",
    "    LOCATION '/mnt/delta/silver/web_forms_clean'\n",
    "\"\"\")\n"
   ]
  }
 ],
 "metadata": {
  "application/vnd.databricks.v1+notebook": {
   "computePreferences": null,
   "dashboards": [],
   "environmentMetadata": {
    "base_environment": "",
    "environment_version": "2"
   },
   "inputWidgetPreferences": null,
   "language": "python",
   "notebookMetadata": {
    "pythonIndentUnit": 4
   },
   "notebookName": "silver_web_forms.py",
   "widgets": {}
  },
  "language_info": {
   "name": "python"
  }
 },
 "nbformat": 4,
 "nbformat_minor": 0
}
