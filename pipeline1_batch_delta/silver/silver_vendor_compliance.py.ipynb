{
 "cells": [
  {
   "cell_type": "code",
   "execution_count": 0,
   "metadata": {
    "application/vnd.databricks.v1+cell": {
     "cellMetadata": {
      "byteLimit": 2048000,
      "rowLimit": 10000
     },
     "inputWidgets": {},
     "nuid": "3306b214-ae45-4df0-a2b8-f54e8432bd02",
     "showTitle": false,
     "tableResultSettingsMap": {},
     "title": ""
    }
   },
   "outputs": [],
   "source": [
    "from pyspark.sql import SparkSession\n",
    "from pyspark.sql.functions import col\n",
    "from pyspark.sql.types import DoubleType, DateType\n",
    "\n",
    "spark = SparkSession.builder.getOrCreate()\n",
    "\n",
    "# Step 1: Load Bronze vendor_compliance table\n",
    "df_raw = spark.read.format(\"delta\").load(\"/mnt/delta/bronze/vendor_compliance\")\n",
    "\n",
    "# Step 2: Basic Cleaning and Type Fixes\n",
    "df_clean = (\n",
    "    df_raw\n",
    "    .withColumn(\"compliance_score\", col(\"compliance_score\").cast(DoubleType()))\n",
    "    .withColumn(\"last_audit_date\", col(\"last_audit_date\").cast(DateType()))\n",
    "    .dropna(subset=[\"vendor_id\", \"compliance_score\", \"status\"])\n",
    ")\n",
    "\n",
    "# Optional: Add validation flag if needed\n",
    "# df_clean = df_clean.withColumn(\"valid\", when(...))\n",
    "\n",
    "# Step 3: Write to Silver\n",
    "df_clean.write.format(\"delta\") \\\n",
    "    .mode(\"overwrite\") \\\n",
    "    .option(\"mergeSchema\", \"true\") \\\n",
    "    .save(\"/mnt/delta/silver/vendor_compliance_clean\")\n",
    "\n",
    "# Register for SQL use (optional)\n",
    "spark.sql(\"DROP TABLE IF EXISTS vendor_compliance_clean\")\n",
    "spark.sql(\"\"\"\n",
    "CREATE TABLE vendor_compliance_clean\n",
    "USING DELTA\n",
    "LOCATION '/mnt/delta/silver/vendor_compliance_clean'\n",
    "\"\"\")\n"
   ]
  }
 ],
 "metadata": {
  "application/vnd.databricks.v1+notebook": {
   "computePreferences": null,
   "dashboards": [],
   "environmentMetadata": {
    "base_environment": "",
    "environment_version": "2"
   },
   "inputWidgetPreferences": null,
   "language": "python",
   "notebookMetadata": {
    "pythonIndentUnit": 4
   },
   "notebookName": "silver_vendor_compliance.py",
   "widgets": {}
  },
  "language_info": {
   "name": "python"
  }
 },
 "nbformat": 4,
 "nbformat_minor": 0
}
