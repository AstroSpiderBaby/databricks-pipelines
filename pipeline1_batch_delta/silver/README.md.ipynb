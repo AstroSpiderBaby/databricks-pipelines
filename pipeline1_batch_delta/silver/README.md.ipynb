{
 "cells": [
  {
   "cell_type": "code",
   "execution_count": 0,
   "metadata": {
    "application/vnd.databricks.v1+cell": {
     "cellMetadata": {},
     "inputWidgets": {},
     "nuid": "0b6e2cef-b555-482f-a3e7-8a0b8ac26fb5",
     "showTitle": false,
     "tableResultSettingsMap": {},
     "title": ""
    }
   },
   "outputs": [],
   "source": [
    "# Silver Layer\n",
    "\n",
    "This folder contains enrichment and transformation logic applied to the Bronze data.\n",
    "\n",
    "The scripts here clean, enrich, and join datasets to prepare them for business logic aggregation in the Gold layer. Intermediate output is written to `/mnt/delta/silver/`.\n",
    "\n",
    "**Purpose:** Normalize and enrich raw data for downstream analytics and reporting.\n",
    "\n",
    "**Scripts:**\n",
    "- `silver_enrichment.py` – joins and cleans inventory, shipment, and vendor data.\n"
   ]
  }
 ],
 "metadata": {
  "application/vnd.databricks.v1+notebook": {
   "computePreferences": null,
   "dashboards": [],
   "environmentMetadata": {
    "base_environment": "",
    "environment_version": "2"
   },
   "inputWidgetPreferences": null,
   "language": "python",
   "notebookMetadata": {
    "pythonIndentUnit": 4
   },
   "notebookName": "README.md",
   "widgets": {}
  },
  "language_info": {
   "name": "python"
  }
 },
 "nbformat": 4,
 "nbformat_minor": 0
}
