{
 "cells": [
  {
   "cell_type": "markdown",
   "metadata": {
    "application/vnd.databricks.v1+cell": {
     "cellMetadata": {},
     "inputWidgets": {},
     "nuid": "0b6e2cef-b555-482f-a3e7-8a0b8ac26fb5",
     "showTitle": false,
     "tableResultSettingsMap": {},
     "title": ""
    }
   },
   "source": [
    "# ⚪ Silver Layer Transformations\n",
    "\n",
    "This folder contains scripts that clean, normalize, and join raw data into structured Silver Delta tables. It handles validation, deduplication, and joins across domains.\n",
    "\n",
    "📄 **Scripts:**\n",
    "\n",
    "- `silver_finance_invoices_clean.py` – Cleans and transforms finance invoice records, maps to `vendor_id`, casts date types.\n",
    "- `silver_web_forms_clean.py` – Normalizes incoming JSON web form submissions.\n",
    "- `silver_clean_vendor_compliance.py` – Loads vendor compliance from SQL Server, standardizes score types and audit dates.\n",
    "- `silver_inventory_shipments_join.py` – Joins inventory and shipments for full traceability.\n",
    "- `silver_join_finance_with_registry.py` – Integrates ADF-based vendor registry with finance layer (join on `vendor_id`).\n",
    "- `silver_process_vendor_registry.py` – Deduplicates and normalizes registry file using hashkey logic.\n",
    "- `silver_vendor_summary_prep.py` – Final pre-Gold table summarizing all Silver-level joins.\n",
    "- `validate_data_quality.py` – Runs custom data quality checks on critical fields.\n",
    "\n",
    "📤 **Key Output Delta Tables:**\n",
    "\n",
    "- `/mnt/delta/silver/finance_invoices_v2`\n",
    "- `/mnt/delta/silver/web_forms_clean`\n",
    "- `/mnt/delta/silver/vendor_compliance_clean`\n",
    "- `/mnt/delta/silver/inventory_shipments_joined_clean`\n",
    "- `/mnt/delta/silver/finance_with_vendor_info`\n",
    "- `/mnt/delta/silver/vendor_registry_clean`\n",
    "- `/mnt/delta/silver/final_vendor_summary_prep`\n",
    "\n",
    "🔗 ADF-sourced files handled in `/silver/adf_data/`\n",
    "\n",
    "🔙 [Back to Root README](../../README.md)\n"
   ]
  }
 ],
 "metadata": {
  "application/vnd.databricks.v1+notebook": {
   "computePreferences": null,
   "dashboards": [],
   "environmentMetadata": {
    "base_environment": "",
    "environment_version": "2"
   },
   "inputWidgetPreferences": null,
   "language": "python",
   "notebookMetadata": {
    "pythonIndentUnit": 4
   },
   "notebookName": "README.md",
   "widgets": {}
  },
  "language_info": {
   "name": "python"
  }
 },
 "nbformat": 4,
 "nbformat_minor": 0
}
