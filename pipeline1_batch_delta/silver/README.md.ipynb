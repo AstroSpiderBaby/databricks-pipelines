{
 "cells": [
  {
   "cell_type": "markdown",
   "metadata": {
    "application/vnd.databricks.v1+cell": {
     "cellMetadata": {},
     "inputWidgets": {},
     "nuid": "0b6e2cef-b555-482f-a3e7-8a0b8ac26fb5",
     "showTitle": false,
     "tableResultSettingsMap": {},
     "title": ""
    }
   },
   "source": [
    "### 📁 README.md (inside `/silver`)\n",
    "\n",
    "# Silver Layer Transformations\n",
    "\n",
    "This folder contains all scripts used to clean and join raw data into structured Silver Delta tables.\n",
    "\n",
    "## Scripts:\n",
    "\n",
    "- `transform_finance_invoices.py`: Cleans raw invoice data, normalizes `vendor`, casts dates, and maps to `vendor_id`.\n",
    "- `silver_vendor_compliance.py`: Cleans compliance data and casts score/date types.\n",
    "- `silver_enrichment.py`: Joins invoice data with vendor lookup to add `vendor_name`.\n",
    "- `04e_transform_all_clean.py`: Combines all Silver outputs into `final_vendor_summary_prep` for Gold use.\n",
    "\n",
    "## Key Output Tables:\n",
    "- `/mnt/delta/silver/finance_invoices_v2`\n",
    "- `/mnt/delta/silver/vendor_compliance_clean`\n",
    "- `/mnt/delta/silver/finance_with_vendor_info`\n",
    "- `/mnt/delta/silver/final_vendor_summary_prep`\n",
    "\n",
    "🔙 [Back to Root README](../../README.md)"
   ]
  }
 ],
 "metadata": {
  "application/vnd.databricks.v1+notebook": {
   "computePreferences": null,
   "dashboards": [],
   "environmentMetadata": {
    "base_environment": "",
    "environment_version": "2"
   },
   "inputWidgetPreferences": null,
   "language": "python",
   "notebookMetadata": {
    "pythonIndentUnit": 4
   },
   "notebookName": "README.md",
   "widgets": {}
  },
  "language_info": {
   "name": "python"
  }
 },
 "nbformat": 4,
 "nbformat_minor": 0
}
