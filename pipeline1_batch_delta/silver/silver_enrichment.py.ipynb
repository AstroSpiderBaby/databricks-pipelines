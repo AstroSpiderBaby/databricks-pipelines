{
 "cells": [
  {
   "cell_type": "code",
   "execution_count": 0,
   "metadata": {
    "application/vnd.databricks.v1+cell": {
     "cellMetadata": {
      "byteLimit": 2048000,
      "rowLimit": 10000
     },
     "inputWidgets": {},
     "nuid": "634ab7f1-0cf0-4c27-b8a6-d72a3e58e16d",
     "showTitle": false,
     "tableResultSettingsMap": {},
     "title": ""
    }
   },
   "outputs": [],
   "source": [
    "from pyspark.sql import SparkSession\n",
    "from pyspark.sql.functions import when, col, udf\n",
    "from pyspark.sql.types import DateType\n",
    "from datetime import datetime, timedelta\n",
    "import random\n",
    "\n",
    "spark = SparkSession.builder.getOrCreate()\n",
    "\n",
    "# ---------------------\n",
    "# 1. Load Bronze Tables\n",
    "# ---------------------\n",
    "df_inventory = spark.read.format(\"delta\").load(\"/mnt/delta/bronze/inventory\")\n",
    "df_shipments = spark.read.format(\"delta\").load(\"/mnt/delta/bronze/shipments\")\n",
    "df_vendors = spark.read.format(\"delta\").load(\"/mnt/delta/bronze/vendors\")\n",
    "\n",
    "# --------------------------------------\n",
    "# 2. Enrich Inventory: Add `vendor_id`\n",
    "# --------------------------------------\n",
    "df_inventory_enriched = df_inventory.withColumn(\n",
    "    \"vendor_id\",\n",
    "     when(col(\"item_id\") == \"ITM001\", \"V001\")\n",
    "    .when(col(\"item_id\") == \"ITM002\", \"V002\")\n",
    "    .when(col(\"item_id\") == \"ITM003\", \"V003\")\n",
    "    .when(col(\"item_id\") == \"ITM004\", \"V004\")\n",
    "    .when(col(\"item_id\") == \"ITM005\", \"V005\")\n",
    "    .when(col(\"item_id\") == \"ITM006\", \"V006\")\n",
    "    .when(col(\"item_id\") == \"ITM007\", \"V007\")\n",
    "    .when(col(\"item_id\") == \"ITM008\", \"V008\")\n",
    "    .when(col(\"item_id\") == \"ITM009\", \"V009\")\n",
    "    .otherwise(\"V010\")\n",
    ")\n",
    "\n",
    "# -------------------------------------------------\n",
    "# 3. Enrich Shipments: Add random `shipment_date`\n",
    "# -------------------------------------------------\n",
    "@udf(DateType())\n",
    "def random_date():\n",
    "    base = datetime(2025, 6, 1)\n",
    "    return base + timedelta(days=random.randint(0, 14))\n",
    "\n",
    "df_shipments_enriched = df_shipments.withColumn(\"shipment_date\", random_date())\n",
    "\n",
    "# ----------------------------\n",
    "# 4. Write to Silver Layer\n",
    "# ----------------------------\n",
    "df_inventory_enriched.write \\\n",
    "    .format(\"delta\") \\\n",
    "    .mode(\"overwrite\") \\\n",
    "    .option(\"mergeSchema\", \"true\") \\\n",
    "    .save(\"/mnt/delta/silver/inventory_enriched\")\n",
    "\n",
    "df_shipments_enriched.write \\\n",
    "    .format(\"delta\") \\\n",
    "    .mode(\"overwrite\") \\\n",
    "    .option(\"mergeSchema\", \"true\") \\\n",
    "    .save(\"/mnt/delta/silver/shipments_enriched\")\n",
    "\n",
    "df_vendors.write \\\n",
    "    .format(\"delta\") \\\n",
    "    .mode(\"overwrite\") \\\n",
    "    .option(\"mergeSchema\", \"true\") \\\n",
    "    .save(\"/mnt/delta/silver/vendors_clean\")\n",
    "\n"
   ]
  }
 ],
 "metadata": {
  "application/vnd.databricks.v1+notebook": {
   "computePreferences": null,
   "dashboards": [],
   "environmentMetadata": {
    "base_environment": "",
    "environment_version": "2"
   },
   "inputWidgetPreferences": null,
   "language": "python",
   "notebookMetadata": {
    "pythonIndentUnit": 4
   },
   "notebookName": "silver_enrichment.py",
   "widgets": {}
  },
  "language_info": {
   "name": "python"
  }
 },
 "nbformat": 4,
 "nbformat_minor": 0
}
