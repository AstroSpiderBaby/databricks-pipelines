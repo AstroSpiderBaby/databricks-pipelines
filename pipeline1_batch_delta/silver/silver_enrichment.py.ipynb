{
 "cells": [
  {
   "cell_type": "code",
   "execution_count": 0,
   "metadata": {
    "application/vnd.databricks.v1+cell": {
     "cellMetadata": {
      "byteLimit": 2048000,
      "rowLimit": 10000
     },
     "inputWidgets": {},
     "nuid": "634ab7f1-0cf0-4c27-b8a6-d72a3e58e16d",
     "showTitle": false,
     "tableResultSettingsMap": {},
     "title": ""
    }
   },
   "outputs": [],
   "source": [
    "from pyspark.sql import SparkSession\n",
    "from pyspark.sql.functions import col, udf\n",
    "from pyspark.sql.types import DateType\n",
    "from datetime import datetime, timedelta\n",
    "import random\n",
    "\n",
    "spark = SparkSession.builder.getOrCreate()\n",
    "\n",
    "# -----------------------------\n",
    "# 1. Load Enriched Bronze Data\n",
    "# -----------------------------\n",
    "df_inventory = spark.read.format(\"delta\").load(\"/mnt/delta/bronze/inventory\")\n",
    "df_shipments = spark.read.format(\"delta\").load(\"/mnt/delta/bronze/shipments\")\n",
    "df_vendors = spark.read.format(\"delta\").load(\"/mnt/delta/bronze/vendors\")\n",
    "\n",
    "# ----------------------------------\n",
    "# 2. Add shipment_date if needed\n",
    "# ----------------------------------\n",
    "@udf(DateType())\n",
    "def random_date():\n",
    "    base = datetime(2025, 6, 1)\n",
    "    return base + timedelta(days=random.randint(0, 14))\n",
    "\n",
    "if \"shipment_date\" not in df_shipments.columns:\n",
    "    df_shipments = df_shipments.withColumn(\"shipment_date\", random_date())\n",
    "\n",
    "# -----------------------\n",
    "# 3. Write Enriched Tables\n",
    "# -----------------------\n",
    "df_inventory.write.format(\"delta\").mode(\"overwrite\").option(\"mergeSchema\", \"true\").save(\"/mnt/delta/silver/inventory_enriched\")\n",
    "df_shipments.write.format(\"delta\").mode(\"overwrite\").option(\"mergeSchema\", \"true\").save(\"/mnt/delta/silver/shipments_enriched\")\n",
    "df_vendors.write.format(\"delta\").mode(\"overwrite\").option(\"mergeSchema\", \"true\").save(\"/mnt/delta/silver/vendors_clean\")\n",
    "\n",
    "# -----------------------\n",
    "# 3.5 Write Enriched Inventory\n",
    "# ----------------------\n",
    "from pyspark.sql.functions import when\n",
    "\n",
    "df_inventory = spark.read.format(\"delta\").load(\"/mnt/delta/silver/inventory_enriched\")\n",
    "\n",
    "df_inventory = df_inventory.withColumn(\n",
    "    \"vendor_id\",\n",
    "    when(col(\"item_id\") == \"ITM001\", \"V001\")\n",
    "    .when(col(\"item_id\") == \"ITM002\", \"V002\")\n",
    "    .when(col(\"item_id\") == \"ITM003\", \"V003\")\n",
    "    .when(col(\"item_id\") == \"ITM004\", \"V004\")\n",
    "    .when(col(\"item_id\") == \"ITM005\", \"V005\")\n",
    "    .when(col(\"item_id\") == \"ITM006\", \"V006\")\n",
    "    .when(col(\"item_id\") == \"ITM007\", \"V007\")\n",
    "    .when(col(\"item_id\") == \"ITM008\", \"V008\")\n",
    "    .when(col(\"item_id\") == \"ITM009\", \"V009\")\n",
    "    .otherwise(\"V010\")\n",
    ")\n",
    "\n",
    "\n",
    "# ---------------------------------------------------------\n",
    "# 4. Join Inventory + Shipments + Vendors on vendor_id\n",
    "# ---------------------------------------------------------\n",
    "df_joined = (\n",
    "    df_inventory.alias(\"inv\")\n",
    "    .join(df_shipments.alias(\"ship\"), on=\"vendor_id\", how=\"inner\")\n",
    "    .join(df_vendors.alias(\"vend\"), on=\"vendor_id\", how=\"left\")\n",
    "    .select(\n",
    "        \"inv.vendor_id\",\n",
    "        \"inv.item_id\", \"inv.item_name\", \"inv.quantity_on_hand\", \"inv.reorder_level\", \"inv.last_updated\",\n",
    "        \"ship.shipment_id\", \"ship.ship_date\", \"ship.shipment_date\", \"ship.destination\", \"ship.status\",\n",
    "        col(\"vend.name\").alias(\"vendor_name\"),\n",
    "        \"vend.location\", \"vend.rating\"\n",
    "    )\n",
    ")\n",
    "\n",
    "\n",
    "df_joined.write \\\n",
    "    .format(\"delta\") \\\n",
    "    .mode(\"overwrite\") \\\n",
    "    .option(\"mergeSchema\", \"true\") \\\n",
    "    .save(\"/mnt/delta/silver/inventory_shipments_joined_clean\")\n"
   ]
  }
 ],
 "metadata": {
  "application/vnd.databricks.v1+notebook": {
   "computePreferences": null,
   "dashboards": [],
   "environmentMetadata": {
    "base_environment": "",
    "environment_version": "2"
   },
   "inputWidgetPreferences": null,
   "language": "python",
   "notebookMetadata": {
    "pythonIndentUnit": 4
   },
   "notebookName": "silver_enrichment.py",
   "widgets": {}
  },
  "language_info": {
   "name": "python"
  }
 },
 "nbformat": 4,
 "nbformat_minor": 0
}
