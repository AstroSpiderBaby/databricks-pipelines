{
 "cells": [
  {
   "cell_type": "code",
   "execution_count": 0,
   "metadata": {
    "application/vnd.databricks.v1+cell": {
     "cellMetadata": {},
     "inputWidgets": {},
     "nuid": "e7d05a80-40ff-43a6-99c9-635c523d08b6",
     "showTitle": false,
     "tableResultSettingsMap": {},
     "title": ""
    }
   },
   "outputs": [],
   "source": [
    "\"\"\"\n",
    "04e_transform_all_clean.py\n",
    "\n",
    "Final Silver enrichment step that prepares data for Gold.\n",
    "- Joins vendor_compliance data (status, compliance_score, last_audit_date)\n",
    "- Passes through existing finance + vendor join\n",
    "\n",
    "Output: Delta table at /mnt/delta/silver/final_vendor_summary_prep\n",
    "\"\"\""
   ]
  },
  {
   "cell_type": "code",
   "execution_count": 0,
   "metadata": {
    "application/vnd.databricks.v1+cell": {
     "cellMetadata": {
      "byteLimit": 2048000,
      "rowLimit": 10000
     },
     "inputWidgets": {},
     "nuid": "6778078e-f0ba-44f8-b397-515452c2d2df",
     "showTitle": false,
     "tableResultSettingsMap": {},
     "title": ""
    }
   },
   "outputs": [],
   "source": [
    "\"\"\"\n",
    "04e_transform_all_clean.py\n",
    "\n",
    "Combines all Silver tables into a final summary prep table\n",
    "- Joins finance, vendor compliance, and web forms (optional)\n",
    "- Output: /mnt/delta/silver/final_vendor_summary_prep\n",
    "\"\"\"\n",
    "\n",
    "from pyspark.sql import SparkSession\n",
    "\n",
    "spark = SparkSession.builder.getOrCreate()\n",
    "\n",
    "# Load all Silver tables\n",
    "df_finance = spark.read.format(\"delta\").load(\"/mnt/delta/silver/finance_with_vendor_info\")\n",
    "df_compliance = spark.read.format(\"delta\").load(\"/mnt/delta/silver/vendor_compliance_clean\")\n",
    "# Optional: web forms if joinable\n",
    "# df_forms = spark.read.format(\"delta\").load(\"/mnt/delta/silver/web_forms_clean\")\n",
    "\n",
    "# Join with vendor compliance (left join keeps all finance records)\n",
    "df_final = df_finance.join(df_compliance, on=\"vendor_id\", how=\"left\")\n",
    "\n",
    "# Write to final Silver path\n",
    "df_final.write.format(\"delta\") \\\n",
    "    .mode(\"overwrite\") \\\n",
    "    .option(\"mergeSchema\", \"true\") \\\n",
    "    .save(\"/mnt/delta/silver/final_vendor_summary_prep\")\n",
    "\n"
   ]
  },
  {
   "cell_type": "code",
   "execution_count": 0,
   "metadata": {
    "application/vnd.databricks.v1+cell": {
     "cellMetadata": {
      "byteLimit": 2048000,
      "rowLimit": 10000
     },
     "inputWidgets": {},
     "nuid": "6788df22-7bc7-4493-91a7-2bfdcc5c49b8",
     "showTitle": false,
     "tableResultSettingsMap": {},
     "title": ""
    }
   },
   "outputs": [],
   "source": [
    "df_finance = spark.read.format(\"delta\").load(\"/mnt/delta/silver/finance_with_vendor_info\")\n",
    "\n",
    "display(df_finance)\n"
   ]
  }
 ],
 "metadata": {
  "application/vnd.databricks.v1+notebook": {
   "computePreferences": null,
   "dashboards": [],
   "environmentMetadata": {
    "base_environment": "",
    "environment_version": "2"
   },
   "inputWidgetPreferences": null,
   "language": "python",
   "notebookMetadata": {
    "pythonIndentUnit": 4
   },
   "notebookName": "04e_transform_all_clean.py",
   "widgets": {}
  },
  "language_info": {
   "name": "python"
  }
 },
 "nbformat": 4,
 "nbformat_minor": 0
}
