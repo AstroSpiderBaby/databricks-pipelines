{
 "cells": [
  {
   "cell_type": "code",
   "execution_count": 0,
   "metadata": {
    "application/vnd.databricks.v1+cell": {
     "cellMetadata": {
      "byteLimit": 2048000,
      "rowLimit": 10000
     },
     "inputWidgets": {},
     "nuid": "e4914808-330e-48b7-8484-868ad10dcc3a",
     "showTitle": false,
     "tableResultSettingsMap": {},
     "title": ""
    }
   },
   "outputs": [],
   "source": [
    "from pyspark.sql import SparkSession\n",
    "from pyspark.sql.functions import upper, trim, col\n",
    "\n",
    "spark = SparkSession.builder.getOrCreate()\n",
    "\n",
    "# -------------------------------------\n",
    "# Step 1: Load Clean Silver Data\n",
    "# -------------------------------------\n",
    "df_finance = spark.read.format(\"delta\").load(\"dbfs:/mnt/delta/silver/finance_invoices_v2\")\n",
    "df_vendors = spark.read.format(\"delta\").load(\"/mnt/delta/silver/vendors_clean\")\n",
    "\n",
    "# -------------------------------------\n",
    "# Step 2: Standardize join keys\n",
    "# -------------------------------------\n",
    "df_finance = df_finance.withColumn(\"vendor_id\", upper(trim(col(\"vendor_id\"))))\n",
    "df_vendors = df_vendors.withColumn(\"vendor_id\", upper(trim(col(\"vendor_id\"))))\n",
    "\n",
    "# -------------------------------------\n",
    "# Step 3: Join on vendor_id\n",
    "# -------------------------------------\n",
    "df_joined = df_finance.join(df_vendors, on=\"vendor_id\", how=\"left\")\n",
    "\n",
    "# Optional: Select and rename columns\n",
    "df_joined = df_joined.select(\n",
    "    \"invoice_id\", \"vendor_id\", \"amount_usd\", \"invoice_date\", \"due_date\",\n",
    "    \"paid_flag\", \"source_file\", \"ingestion_type\",\n",
    "    col(\"name\").alias(\"vendor_name\"),\n",
    "    \"location\", \"rating\"\n",
    ")\n",
    "\n",
    "# -------------------------------------\n",
    "# Step 4: Write Silver Join Output\n",
    "# -------------------------------------\n",
    "df_joined.write.format(\"delta\") \\\n",
    "    .mode(\"overwrite\") \\\n",
    "    .option(\"mergeSchema\", \"true\") \\\n",
    "    .save(\"/mnt/delta/silver/finance_with_vendor_info\")\n",
    "\n",
    "print(\"✅ Silver join completed.\")\n",
    "\n",
    "display(df_joined)"
   ]
  },
  {
   "cell_type": "code",
   "execution_count": 0,
   "metadata": {
    "application/vnd.databricks.v1+cell": {
     "cellMetadata": {},
     "inputWidgets": {},
     "nuid": "b0da416f-fd4f-4828-9019-775e7b0dce8c",
     "showTitle": false,
     "tableResultSettingsMap": {},
     "title": ""
    }
   },
   "outputs": [],
   "source": []
  }
 ],
 "metadata": {
  "application/vnd.databricks.v1+notebook": {
   "computePreferences": null,
   "dashboards": [],
   "environmentMetadata": {
    "base_environment": "",
    "environment_version": "2"
   },
   "inputWidgetPreferences": null,
   "language": "python",
   "notebookMetadata": {
    "pythonIndentUnit": 4
   },
   "notebookName": "finance_with_vendors_joined.py",
   "widgets": {}
  },
  "language_info": {
   "name": "python"
  }
 },
 "nbformat": 4,
 "nbformat_minor": 0
}
