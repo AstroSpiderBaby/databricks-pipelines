{
 "cells": [
  {
   "cell_type": "code",
   "execution_count": 0,
   "metadata": {
    "application/vnd.databricks.v1+cell": {
     "cellMetadata": {},
     "inputWidgets": {},
     "nuid": "ae676034-d62f-4723-90f0-74e4e3761af9",
     "showTitle": false,
     "tableResultSettingsMap": {},
     "title": ""
    }
   },
   "outputs": [],
   "source": [
    "# 🧾 ADF-Sourced Data: Vendor Registry\n",
    "\n",
    "This folder contains transformation logic for handling data ingested via **Azure Data Factory (ADF)** into Azure Blob Storage.\n",
    "\n",
    "## Overview\n",
    "\n",
    "- ADF is used to pull external vendor registry data (Parquet format) into a designated Blob Storage container.\n",
    "- This data is automatically picked up and processed into the Silver layer of the Delta Lake pipeline.\n",
    "- The notebook in this folder (`Vendor_Registry_Silver`) handles incremental upserts using hash comparison.\n",
    "\n",
    "## Script(s)\n",
    "\n",
    "- **Vendor_Registry_Silver**\n",
    "  - Reads Parquet files from ADF landing zone (`/mnt/lv426-adf-data/registry`)\n",
    "  - Performs basic schema validation\n",
    "  - Deduplicates using hash keys\n",
    "  - Upserts clean records into:  \n",
    "    `/mnt/delta/silver/vendor_registry_clean`\n",
    "\n",
    "## Output Table\n",
    "\n",
    "| Table Name               | Location                                 |\n",
    "|--------------------------|-------------------------------------------|\n",
    "| `vendor_registry_clean`  | `/mnt/delta/silver/vendor_registry_clean` |\n",
    "\n",
    "## Highlights\n",
    "\n",
    "- 🧩 Integrated with ADF for cross-service orchestration  \n",
    "- 🔁 Supports deduplication and merge logic via hash-based key  \n",
    "- 🔐 Maintains data lineage from ADF blob to Delta Lake\n",
    "\n",
    "---\n",
    "\n",
    "🔙 [Back to Silver README](../README.md)\n"
   ]
  }
 ],
 "metadata": {
  "application/vnd.databricks.v1+notebook": {
   "computePreferences": null,
   "dashboards": [],
   "environmentMetadata": {
    "base_environment": "",
    "environment_version": "2"
   },
   "inputWidgetPreferences": null,
   "language": "python",
   "notebookMetadata": {
    "pythonIndentUnit": 4
   },
   "notebookName": "README",
   "widgets": {}
  },
  "language_info": {
   "name": "python"
  }
 },
 "nbformat": 4,
 "nbformat_minor": 0
}
