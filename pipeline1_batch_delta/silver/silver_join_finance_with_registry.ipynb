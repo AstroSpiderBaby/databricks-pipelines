{
 "cells": [
  {
   "cell_type": "code",
   "execution_count": 0,
   "metadata": {
    "application/vnd.databricks.v1+cell": {
     "cellMetadata": {
      "byteLimit": 2048000,
      "rowLimit": 10000
     },
     "inputWidgets": {},
     "nuid": "d5804ea8-93a5-4e8e-936c-ac6aa6879fac",
     "showTitle": false,
     "tableResultSettingsMap": {},
     "title": ""
    }
   },
   "outputs": [],
   "source": [
    "from pyspark.sql import SparkSession\n",
    "\n",
    "spark = SparkSession.builder.getOrCreate()\n",
    "\n",
    "# Load joined finance + vendor data\n",
    "df_finance = spark.read.format(\"delta\").load(\"/mnt/delta/silver/finance_with_vendor_info\")\n",
    "\n",
    "# Load Silver-level cleaned vendor registry\n",
    "df_registry = spark.read.format(\"delta\").load(\"/mnt/delta/silver/vendor_registry_clean\")\n",
    "\n",
    "# Join on vendor_id\n",
    "df_enriched = df_finance.join(df_registry, on=\"vendor_id\", how=\"left\")\n",
    "\n",
    "# Write final Gold table\n",
    "df_enriched.write.format(\"delta\") \\\n",
    "    .mode(\"overwrite\") \\\n",
    "    .option(\"overwriteSchema\", \"true\") \\\n",
    "    .save(\"/mnt/delta/silver/finance_with_vendors_enriched\")\n",
    "\n",
    "# Register as SQL table\n",
    "spark.sql(\"DROP TABLE IF EXISTS finance_with_vendors_enriched\")\n",
    "spark.sql(\"\"\"\n",
    "CREATE TABLE finance_with_vendors_enriched\n",
    "USING DELTA\n",
    "LOCATION '/mnt/delta/silver/finance_with_vendors_enriched'\n",
    "\"\"\")"
   ]
  }
 ],
 "metadata": {
  "application/vnd.databricks.v1+notebook": {
   "computePreferences": null,
   "dashboards": [],
   "environmentMetadata": {
    "base_environment": "",
    "environment_version": "2"
   },
   "inputWidgetPreferences": null,
   "language": "python",
   "notebookMetadata": {
    "pythonIndentUnit": 4
   },
   "notebookName": "silver_join_finance_with_registry",
   "widgets": {}
  },
  "language_info": {
   "name": "python"
  }
 },
 "nbformat": 4,
 "nbformat_minor": 0
}
