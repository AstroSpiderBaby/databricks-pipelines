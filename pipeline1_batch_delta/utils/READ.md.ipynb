{
 "cells": [
  {
   "cell_type": "markdown",
   "metadata": {
    "application/vnd.databricks.v1+cell": {
     "cellMetadata": {},
     "inputWidgets": {},
     "nuid": "233c3172-bd71-4e7b-9d87-094de28aeda9",
     "showTitle": false,
     "tableResultSettingsMap": {},
     "title": ""
    }
   },
   "source": [
    "# 🛠️ Utils\n",
    "\n",
    "This folder contains reusable utility functions and helper logic shared across the pipeline.\n",
    "\n",
    "📄 Scripts:\n",
    "- `write_utils.py` – Central helper for writing DataFrames to Delta format with consistent settings (e.g., mergeSchema, overwrite, partitioning). Replaces older `write_to_delta.py`.\n",
    "- `sql_connector.py` – Securely connects to external SQL Server instances using credentials stored in Azure Key Vault.\n",
    "- `mount_lv426_blobstorage` – Mounts Azure Blob Storage container (`datalakelv426`) to DBFS for pipeline ingestion.\n",
    "\n",
    "🧠 `sql_connector.py` Functions:\n",
    "- `read_sql_table(table_name: str)` – Reads an external SQL table into a Spark DataFrame using JDBC.\n",
    "\n",
    "🔐 Secrets Required:\n",
    "- `sql-jdbc-url`\n",
    "- `sql-user`\n",
    "- `sql-password`\n",
    "\n",
    "📦 Example:\n",
    "```python\n",
    "from utils.sql_connector import read_sql_table\n",
    "\n",
    "df = read_sql_table(\"fury161.dbo.test_databricks_ingest\")\n",
    "display(df)\n"
   ]
  }
 ],
 "metadata": {
  "application/vnd.databricks.v1+notebook": {
   "computePreferences": null,
   "dashboards": [],
   "environmentMetadata": {
    "base_environment": "",
    "environment_version": "2"
   },
   "inputWidgetPreferences": null,
   "language": "python",
   "notebookMetadata": {
    "pythonIndentUnit": 4
   },
   "notebookName": "READ.md",
   "widgets": {}
  },
  "language_info": {
   "name": "python"
  }
 },
 "nbformat": 4,
 "nbformat_minor": 0
}
