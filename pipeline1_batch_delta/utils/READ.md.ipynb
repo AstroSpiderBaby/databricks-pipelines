{
 "cells": [
  {
   "cell_type": "code",
   "execution_count": 0,
   "metadata": {
    "application/vnd.databricks.v1+cell": {
     "cellMetadata": {},
     "inputWidgets": {},
     "nuid": "233c3172-bd71-4e7b-9d87-094de28aeda9",
     "showTitle": false,
     "tableResultSettingsMap": {},
     "title": ""
    }
   },
   "outputs": [],
   "source": [
    "# 🛠️ Utils\n",
    "\n",
    "This folder contains **reusable utility functions and helper logic** shared across the Databricks pipeline.\n",
    "\n",
    "These scripts encapsulate core functionality like writing Delta tables, connecting to secure SQL Server sources, and mounting Azure Blob Storage.\n",
    "\n",
    "---\n",
    "\n",
    "## 📄 Scripts:\n",
    "\n",
    "- `utils_write_delta.py`  \n",
    "  Provides a reusable function `write_df_to_delta()` for writing DataFrames with consistent options:\n",
    "  - Supports overwrite, append, mergeSchema, and partitioning\n",
    "  - Simplifies table registration and verbose logging\n",
    "\n",
    "- `utils_sql_connector.py`  \n",
    "  Securely connects to external **SQL Server** using **Azure Key Vault** secrets + JDBC.\n",
    "\n",
    "- `utils_mount_lv426_blobstorage.py`  \n",
    "  Mounts **Azure Blob Storage** container `datalakelv426` to **DBFS** for ingestion access.\n",
    "\n",
    "- `utils_generate_vendor_summary.py`  \n",
    "  (Optional) Logic for formatting or generating summary statistics from vendor datasets.\n",
    "\n",
    "- `utils_upsert_with_hashstring.py`  \n",
    "  Enables **upsert logic** based on deterministic hash keys (used for incremental writes to Delta).\n",
    "\n",
    "- `test_write_utils.py`  \n",
    "  Standalone test script to validate `write_df_to_delta()` with mock data.\n",
    "\n",
    "- `get_mock_files.py`  \n",
    "  Helper for retrieving and displaying mock data files for preview and testing.\n",
    "\n",
    "---\n",
    "\n",
    "## 🔐 SQL Secrets Required\n",
    "\n",
    "For `utils_sql_connector.py`:\n",
    "\n",
    "- `sql-jdbc-url`\n",
    "- `sql-user`\n",
    "- `sql-password`\n",
    "\n",
    "These secrets must be stored in the scope: `databricks-secrets-lv426`\n",
    "\n",
    "---\n",
    "\n",
    "## 📦 Example Usage\n",
    "\n",
    "```python\n",
    "from utils.sql_connector import read_sql_table\n",
    "\n",
    "df = read_sql_table(\"fury161.dbo.test_databricks_ingest\")\n",
    "display(df)\n",
    "```\n",
    "\n",
    "---\n",
    "\n",
    "🔙 [Back to Root README](../../README.md)"
   ]
  }
 ],
 "metadata": {
  "application/vnd.databricks.v1+notebook": {
   "computePreferences": null,
   "dashboards": [],
   "environmentMetadata": {
    "base_environment": "",
    "environment_version": "2"
   },
   "inputWidgetPreferences": null,
   "language": "python",
   "notebookMetadata": {
    "pythonIndentUnit": 4
   },
   "notebookName": "READ.md",
   "widgets": {}
  },
  "language_info": {
   "name": "python"
  }
 },
 "nbformat": 4,
 "nbformat_minor": 0
}
