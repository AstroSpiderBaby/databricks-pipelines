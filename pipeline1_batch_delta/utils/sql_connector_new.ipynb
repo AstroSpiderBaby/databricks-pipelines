{
 "cells": [
  {
   "cell_type": "code",
   "execution_count": 0,
   "metadata": {
    "application/vnd.databricks.v1+cell": {
     "cellMetadata": {
      "byteLimit": 2048000,
      "rowLimit": 10000
     },
     "inputWidgets": {},
     "nuid": "554932ba-00aa-40db-8402-60fa1f55b665",
     "showTitle": false,
     "tableResultSettingsMap": {},
     "title": ""
    }
   },
   "outputs": [],
   "source": [
    "\"\"\"\n",
    "sql_connector\n",
    "\n",
    "Securely retrieves a SQL Server table via JDBC using secrets stored in Azure Key Vault.\n",
    "\"\"\"\n",
    "\n",
    "from pyspark.sql import SparkSession\n",
    "import os\n",
    "\n",
    "# Get secrets from Azure Key Vault-backed scope\n",
    "jdbc_url = dbutils.secrets.get(scope=\"databricks-secrets-lv426\", key=\"sql-jdbc-url\")\n",
    "sql_user = dbutils.secrets.get(scope=\"databricks-secrets-lv426\", key=\"sql-user\")\n",
    "sql_password = dbutils.secrets.get(scope=\"databricks-secrets-lv426\", key=\"sql-password\")\n",
    "\n",
    "# JDBC options\n",
    "connection_properties = {\n",
    "    \"user\": sql_user,\n",
    "    \"password\": sql_password,\n",
    "    \"driver\": \"com.microsoft.sqlserver.jdbc.SQLServerDriver\"\n",
    "}\n",
    "\n",
    "def read_sql_table(table_name: str, spark=None):\n",
    "    if spark is None:\n",
    "        spark = SparkSession.builder.getOrCreate()\n",
    "    return spark.read.jdbc(url=jdbc_url, table=table_name, properties=connection_properties)\n"
   ]
  }
 ],
 "metadata": {
  "application/vnd.databricks.v1+notebook": {
   "computePreferences": null,
   "dashboards": [],
   "environmentMetadata": {
    "base_environment": "",
    "environment_version": "2"
   },
   "inputWidgetPreferences": null,
   "language": "python",
   "notebookMetadata": {
    "pythonIndentUnit": 4
   },
   "notebookName": "sql_connector_new",
   "widgets": {}
  },
  "language_info": {
   "name": "python"
  }
 },
 "nbformat": 4,
 "nbformat_minor": 0
}
