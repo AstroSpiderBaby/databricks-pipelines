{
 "cells": [
  {
   "cell_type": "code",
   "execution_count": 0,
   "metadata": {
    "application/vnd.databricks.v1+cell": {
     "cellMetadata": {},
     "inputWidgets": {},
     "nuid": "ff9ba35f-d646-4617-9d38-7418abb3f2c7",
     "showTitle": false,
     "tableResultSettingsMap": {},
     "title": ""
    }
   },
   "outputs": [],
   "source": [
    "\"\"\"\n",
    "mount_lv426_blobstorage.py\n",
    "\n",
    "Securely mounts Azure Blob Storage containers to Databricks using secrets stored in Azure Key Vault.\n",
    "\n",
    "- Uses `dbutils.secrets.get` to retrieve the storage account key.\n",
    "- Mounts each container only if not already mounted.\n",
    "- Mount point format: /mnt/<container_name>\n",
    "\n",
    "Required:\n",
    "- Azure Key Vault-backed secret scope (e.g., \"databricks-secrets-lv426\")\n",
    "- Secret key containing the storage key (e.g., \"lv426-storage-key\")\n",
    "\n",
    "Typical Use:\n",
    "Run this once during environment setup to mount:\n",
    "    - raw-ingest\n",
    "    - external-ingest\n",
    "\"\"\"\n"
   ]
  },
  {
   "cell_type": "markdown",
   "metadata": {
    "application/vnd.databricks.v1+cell": {
     "cellMetadata": {},
     "inputWidgets": {},
     "nuid": "2b024c66-b116-43a5-8a2e-90cf95bea84c",
     "showTitle": false,
     "tableResultSettingsMap": {},
     "title": ""
    }
   },
   "source": [
    "Azure Key Vault Method"
   ]
  },
  {
   "cell_type": "code",
   "execution_count": 0,
   "metadata": {
    "application/vnd.databricks.v1+cell": {
     "cellMetadata": {
      "byteLimit": 2048000,
      "rowLimit": 10000
     },
     "inputWidgets": {},
     "nuid": "8f0b1206-5fb9-4614-bd4a-e85527a41a86",
     "showTitle": false,
     "tableResultSettingsMap": {},
     "title": ""
    }
   },
   "outputs": [],
   "source": [
    "# Parameters\n",
    "storage_account_name = \"datalakelv426\"\n",
    "containers = [\"raw-ingest\", \"external-ingest\", \"adf-silver\"]  \n",
    "mount_base = \"/mnt\"\n",
    "\n",
    "\n",
    "# Azure Key Vault-backed secret scope setup\n",
    "secret_scope = \"databricks-secrets-lv426\"  # Must match the scope name created via CLI\n",
    "secret_key_name = \"lv426-storage-key\"      # Must match the key name stored in Azure Key Vault\n",
    "\n",
    "# Get key securely from Azure Key Vault via secret scope\n",
    "storage_key = dbutils.secrets.get(scope=secret_scope, key=secret_key_name)\n",
    "\n",
    "# Loop through containers and mount them if not already mounted\n",
    "for container_name in containers:\n",
    "    mount_point = f\"{mount_base}/{container_name}\"\n",
    "    configs = {\n",
    "        f\"fs.azure.account.key.{storage_account_name}.blob.core.windows.net\": storage_key\n",
    "    }\n",
    "\n",
    "    if not any(mount.mountPoint == mount_point for mount in dbutils.fs.mounts()):\n",
    "        dbutils.fs.mount(\n",
    "            source=f\"wasbs://{container_name}@{storage_account_name}.blob.core.windows.net/\",\n",
    "            mount_point=mount_point,\n",
    "            extra_configs=configs\n",
    "        )\n",
    "        print(f\"✅ Mounted securely: {mount_point}\")\n",
    "    else:\n",
    "        print(f\"⚠️ Already mounted: {mount_point}\")\n"
   ]
  },
  {
   "cell_type": "code",
   "execution_count": 0,
   "metadata": {
    "application/vnd.databricks.v1+cell": {
     "cellMetadata": {
      "byteLimit": 2048000,
      "rowLimit": 10000
     },
     "inputWidgets": {},
     "nuid": "33e768f1-7646-47fb-862f-c44cd65a59f5",
     "showTitle": false,
     "tableResultSettingsMap": {},
     "title": ""
    }
   },
   "outputs": [],
   "source": [
    "df_raw = spark.read.format(\"parquet\").load(\"/mnt/adf-silver\")"
   ]
  },
  {
   "cell_type": "code",
   "execution_count": 0,
   "metadata": {
    "application/vnd.databricks.v1+cell": {
     "cellMetadata": {
      "byteLimit": 2048000,
      "rowLimit": 10000
     },
     "inputWidgets": {},
     "nuid": "8d3b36d7-2945-4014-929a-c26111d96d2c",
     "showTitle": false,
     "tableResultSettingsMap": {},
     "title": ""
    }
   },
   "outputs": [],
   "source": [
    "display(dbutils.fs.mounts())"
   ]
  },
  {
   "cell_type": "code",
   "execution_count": 0,
   "metadata": {
    "application/vnd.databricks.v1+cell": {
     "cellMetadata": {
      "byteLimit": 2048000,
      "rowLimit": 10000
     },
     "inputWidgets": {},
     "nuid": "2004597d-b9d2-43f4-bbb6-ea5ade915c5e",
     "showTitle": false,
     "tableResultSettingsMap": {},
     "title": ""
    }
   },
   "outputs": [],
   "source": [
    "df_csv = spark.read.option(\"header\", True).csv(\"/mnt/raw-ingest/finance_invoice_data.csv\")\n",
    "df_json = spark.read.option(\"multiLine\", True).json(\"/mnt/external-ingest/web_form_submissions.json\")\n"
   ]
  }
 ],
 "metadata": {
  "application/vnd.databricks.v1+notebook": {
   "computePreferences": null,
   "dashboards": [],
   "environmentMetadata": {
    "base_environment": "",
    "environment_version": "2"
   },
   "inputWidgetPreferences": null,
   "language": "python",
   "notebookMetadata": {
    "mostRecentlyExecutedCommandWithImplicitDF": {
     "commandId": 6988951136525147,
     "dataframes": [
      "_sqldf"
     ]
    },
    "pythonIndentUnit": 4
   },
   "notebookName": "utils_mount_lv426_blobstorage",
   "widgets": {}
  },
  "language_info": {
   "name": "python"
  }
 },
 "nbformat": 4,
 "nbformat_minor": 0
}
