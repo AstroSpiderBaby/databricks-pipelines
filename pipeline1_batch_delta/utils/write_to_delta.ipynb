{
 "cells": [
  {
   "cell_type": "code",
   "execution_count": 0,
   "metadata": {
    "application/vnd.databricks.v1+cell": {
     "cellMetadata": {
      "byteLimit": 2048000,
      "rowLimit": 10000
     },
     "inputWidgets": {},
     "nuid": "7bb79ddb-308b-44d0-aa87-8cd0a0aa0a53",
     "showTitle": false,
     "tableResultSettingsMap": {},
     "title": ""
    }
   },
   "outputs": [],
   "source": [
    "from pyspark.sql import SparkSession\n",
    "from pyspark.sql.functions import count, sum, max, when, col\n",
    "\n",
    "spark = SparkSession.builder.getOrCreate()\n",
    "\n",
    "# Load Silver layer outputs\n",
    "df_inventory = spark.read.format(\"delta\").load(\"/mnt/delta/silver/inventory_enriched\")\n",
    "df_shipments = spark.read.format(\"delta\").load(\"/mnt/delta/silver/shipments_enriched\")\n",
    "\n",
    "# -------------------------\n",
    "# Inventory summary per vendor\n",
    "# -------------------------\n",
    "inventory_summary = df_inventory.groupBy(\"vendor_id\", \"name\").agg(\n",
    "    count(\"*\").alias(\"total_inventory_items\"),\n",
    "    sum(\"quantity_on_hand\").alias(\"total_quantity_on_hand\")\n",
    ")\n",
    "\n",
    "# Identify low stock items\n",
    "low_stock = df_inventory.filter(col(\"quantity_on_hand\") < col(\"reorder_level\")) \\\n",
    "    .groupBy(\"vendor_id\", \"name\").count() \\\n",
    "    .withColumnRenamed(\"count\", \"low_stock_items\")\n",
    "\n",
    "# -------------------------\n",
    "# Shipment summary per vendor\n",
    "# -------------------------\n",
    "shipment_summary = df_shipments.groupBy(\"vendor_id\", \"name\").agg(\n",
    "    count(\"*\").alias(\"total_shipments\"),\n",
    "    sum(when(col(\"status\") == \"Delivered\", 1).otherwise(0)).alias(\"delivered_shipments\"),\n",
    "    sum(when(col(\"status\") == \"Pending\", 1).otherwise(0)).alias(\"pending_shipments\"),\n",
    "    max(\"shipment_date\").alias(\"last_shipment_date\")\n",
    ")\n",
    "\n",
    "# -------------------------\n",
    "# Combine all summaries\n",
    "# -------------------------\n",
    "vendor_summary = inventory_summary \\\n",
    "    .join(shipment_summary, on=[\"vendor_id\", \"name\"], how=\"outer\") \\\n",
    "    .join(low_stock, on=[\"vendor_id\", \"name\"], how=\"left\") \\\n",
    "    .fillna(0)\n",
    "\n",
    "# -------------------------\n",
    "# Write to Delta Gold layer (same single write command)\n",
    "# -------------------------\n",
    "vendor_summary.write.format(\"delta\").mode(\"overwrite\").save(\"/mnt/delta/gold/vendor_summary\")\n",
    "\n",
    "# Optional: Register as SQL table\n",
    "spark.sql(\"DROP TABLE IF EXISTS vendor_summary\")\n",
    "spark.sql(\"\"\"\n",
    "    CREATE TABLE vendor_summary\n",
    "    USING DELTA\n",
    "    LOCATION '/mnt/delta/gold/vendor_summary'\n",
    "\"\"\")\n"
   ]
  }
 ],
 "metadata": {
  "application/vnd.databricks.v1+notebook": {
   "computePreferences": null,
   "dashboards": [],
   "environmentMetadata": {
    "base_environment": "",
    "environment_version": "2"
   },
   "inputWidgetPreferences": null,
   "language": "python",
   "notebookMetadata": {
    "pythonIndentUnit": 4
   },
   "notebookName": "write_to_delta",
   "widgets": {}
  },
  "language_info": {
   "name": "python"
  }
 },
 "nbformat": 4,
 "nbformat_minor": 0
}
