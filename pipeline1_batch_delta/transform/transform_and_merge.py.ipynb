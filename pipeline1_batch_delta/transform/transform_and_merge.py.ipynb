{
 "cells": [
  {
   "cell_type": "code",
   "execution_count": 0,
   "metadata": {
    "application/vnd.databricks.v1+cell": {
     "cellMetadata": {
      "byteLimit": 2048000,
      "rowLimit": 10000
     },
     "inputWidgets": {},
     "nuid": "c207ecd2-280f-443d-b8a3-2f7bd1d7b88e",
     "showTitle": false,
     "tableResultSettingsMap": {},
     "title": ""
    }
   },
   "outputs": [],
   "source": [
    "from pyspark.sql import SparkSession\n",
    "from pyspark.sql.functions import count, max\n",
    "\n",
    "spark = SparkSession.builder.getOrCreate()\n",
    "\n",
    "# ------------------------------------\n",
    "# 1. Load Silver Enriched Tables\n",
    "# ------------------------------------\n",
    "df_inventory = spark.read.format(\"delta\").load(\"/mnt/delta/silver/inventory_enriched\")\n",
    "df_shipments = spark.read.format(\"delta\").load(\"/mnt/delta/silver/shipments_enriched\")\n",
    "df_vendors = spark.read.format(\"delta\").load(\"/mnt/delta/silver/vendors_clean\")\n",
    "\n",
    "# ------------------------------------\n",
    "# 2. Join Inventory and Shipments\n",
    "# ------------------------------------\n",
    "# Join inventory and shipments on vendor_id\n",
    "df_joined = df_shipments.alias(\"s\") \\\n",
    "    .join(df_inventory.alias(\"i\"), on=\"vendor_id\", how=\"left\") \\\n",
    "    .join(df_vendors.alias(\"v\"), on=\"vendor_id\", how=\"left\")\n",
    "# ------------------------------------\n",
    "# 3. Add Vendor Info\n",
    "# ------------------------------------\n",
    "df_final = df_joined.join(df_vendors, on=\"vendor_id\", how=\"left\")\n",
    "\n",
    "# ------------------------------------\n",
    "# 4. Select and Clean Columns\n",
    "# ------------------------------------\n",
    "from pyspark.sql.functions import col\n",
    "\n",
    "df_silver = df_joined.select(\n",
    "    col(\"s.shipment_id\").alias(\"shipment_id\"),\n",
    "    col(\"s.vendor_id\").alias(\"vendor_id\"),\n",
    "    col(\"v.name\").alias(\"vendor_name\"),\n",
    "    col(\"s.shipment_date\").alias(\"shipment_date\"),\n",
    "    col(\"s.destination\").alias(\"shipment_destination\"),\n",
    "    col(\"s.status\").alias(\"shipment_status\"),\n",
    "    col(\"i.item_id\").alias(\"item_id\"),\n",
    "    col(\"i.item_name\").alias(\"item_name\"),\n",
    "    col(\"i.quantity_on_hand\").alias(\"inventory_quantity_on_hand\"),\n",
    "    col(\"i.reorder_level\").alias(\"inventory_reorder_level\"),\n",
    "    col(\"i.last_updated\").alias(\"inventory_last_updated\")\n",
    ")\n",
    "\n",
    "# ------------------------------------\n",
    "# 5. Write to Silver Output (Final Join)\n",
    "# ------------------------------------\n",
    "df_silver.write \\\n",
    "    .format(\"delta\") \\\n",
    "    .mode(\"overwrite\") \\\n",
    "    .option(\"mergeSchema\", \"true\") \\\n",
    "    .save(\"/mnt/delta/silver/inventory_shipments_joined_clean\")\n"
   ]
  },
  {
   "cell_type": "code",
   "execution_count": 0,
   "metadata": {
    "application/vnd.databricks.v1+cell": {
     "cellMetadata": {
      "byteLimit": 2048000,
      "rowLimit": 10000
     },
     "inputWidgets": {},
     "nuid": "0d9d2ef8-adf3-4ee4-9ac4-52288433f0ab",
     "showTitle": false,
     "tableResultSettingsMap": {},
     "title": ""
    }
   },
   "outputs": [],
   "source": [
    "df_preview = spark.read.format(\"delta\").load(\"/mnt/delta/silver/shipments_enriched\")\n",
    "display(df_preview)"
   ]
  }
 ],
 "metadata": {
  "application/vnd.databricks.v1+notebook": {
   "computePreferences": null,
   "dashboards": [],
   "environmentMetadata": {
    "base_environment": "",
    "environment_version": "2"
   },
   "inputWidgetPreferences": null,
   "language": "python",
   "notebookMetadata": {
    "pythonIndentUnit": 4
   },
   "notebookName": "transform_and_merge.py",
   "widgets": {}
  },
  "language_info": {
   "name": "python"
  }
 },
 "nbformat": 4,
 "nbformat_minor": 0
}
