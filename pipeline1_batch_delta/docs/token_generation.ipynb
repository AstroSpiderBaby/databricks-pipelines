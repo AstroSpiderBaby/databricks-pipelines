{
 "cells": [
  {
   "cell_type": "code",
   "execution_count": 0,
   "metadata": {
    "application/vnd.databricks.v1+cell": {
     "cellMetadata": {},
     "inputWidgets": {},
     "nuid": "ccd69b46-76fb-4d65-818d-24dede8f51de",
     "showTitle": false,
     "tableResultSettingsMap": {},
     "title": ""
    }
   },
   "outputs": [],
   "source": [
    "🔐 Azure AAD Token Generation for Databricks (Azure Key Vault Integration)\n",
    "This guide outlines how to generate an AAD token using the Azure CLI so you can use it to create a Databricks secret scope backed by Azure Key Vault.\n",
    "\n",
    "✅ Step-by-Step\n",
    "Open Command Prompt (not Git Bash for this step — Git Bash may misinterpret the redirect):\n",
    "\n",
    "az account get-access-token --resource=https://management.core.windows.net/ --query accessToken -o tsv > token.txt\n",
    "Navigate to your working directory where token.txt is saved:\n",
    "\n",
    "cd /c/Users/<YourUsername>/path/to/scripts\n",
    "Verify the token file was generated using Git Bash or VS Code terminal:\n",
    "\n",
    "cat token.txt\n",
    "If you see a long JWT-style token, you're good (starts with eyJ...).\n",
    "\n",
    "⚠️ Common Issues\n",
    "Running in Git Bash may cause issues with redirection. Always run the command in Command Prompt or PowerShell when saving output to a file.\n",
    "\n",
    "If token.txt looks empty, re-run in cmd.exe.\n",
    "\n",
    "Git Bash can still be used after token is created (e.g., to run curl with the token).\n",
    "\n",
    "🔐 Using the Token\n",
    "You can use the token to create the secret scope via curl:\n",
    "\n",
    "curl -X POST https://adb-<your-id>.azuredatabricks.net/api/2.0/secrets/scopes/create \\\n",
    "-H \"Authorization: Bearer $(cat token.txt)\" \\\n",
    "-H \"Content-Type: application/json\" \\\n",
    "-d '{\n",
    "  \"scope\": \"lv426_kv\",\n",
    "  \"scope_backend_type\": \"AZURE_KEYVAULT\",\n",
    "  \"backend_azure_keyvault\": {\n",
    "    \"resource_id\": \"/subscriptions/XXXX/resourceGroups/YYYY/providers/Microsoft.KeyVault/vaults/your-keyvault\",\n",
    "    \"dns_name\": \"https://your-keyvault.vault.azure.net/\"\n",
    "  }\n",
    "}'\n",
    "🧼 Cleanup & Security\n",
    "The token expires after a short time (~1 hour), so re-generate if needed.\n",
    "\n",
    "Do not commit token.txt to source control.\n",
    "\n",
    "Delete after use if possible:\n",
    "\n",
    "rm token.txt"
   ]
  }
 ],
 "metadata": {
  "application/vnd.databricks.v1+notebook": {
   "computePreferences": null,
   "dashboards": [],
   "environmentMetadata": {
    "base_environment": "",
    "environment_version": "2"
   },
   "inputWidgetPreferences": null,
   "language": "python",
   "notebookMetadata": {
    "pythonIndentUnit": 4
   },
   "notebookName": "token_generation",
   "widgets": {}
  },
  "language_info": {
   "name": "python"
  }
 },
 "nbformat": 4,
 "nbformat_minor": 0
}
