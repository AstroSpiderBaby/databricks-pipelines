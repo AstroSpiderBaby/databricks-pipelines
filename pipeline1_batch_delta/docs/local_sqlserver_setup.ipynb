{
 "cells": [
  {
   "cell_type": "code",
   "execution_count": 0,
   "metadata": {
    "application/vnd.databricks.v1+cell": {
     "cellMetadata": {},
     "inputWidgets": {},
     "nuid": "590b58d5-ffc0-4e04-a001-095fce45e3e7",
     "showTitle": false,
     "tableResultSettingsMap": {},
     "title": ""
    }
   },
   "outputs": [],
   "source": [
    "\n",
    "\n",
    "\n",
    "# 🖥️ Local SQL Server Setup (SSMS)\n",
    "\n",
    "This document outlines how to configure SQL Server locally (via SSMS) for secure integration with Databricks using JDBC and Azure Key Vault.\n",
    "\n",
    "---\n",
    "\n",
    "## ✅ Step-by-Step Configuration\n",
    "\n",
    "| Step | Description |\n",
    "|------|-------------|\n",
    "| ✅ Enable Mixed Authentication | Open **Server Properties** > **Security** → Select `SQL Server and Windows Authentication mode`. |\n",
    "| ➕ Create Login | In a new query window:<br>`CREATE LOGIN databricks_user WITH PASSWORD = 'yourStrongPassword';` |\n",
    "| ➕ Create Database User | In your target database:<br>`CREATE USER databricks_user FOR LOGIN databricks_user;` |\n",
    "| 👓 Grant Access | Read access:<br>`EXEC sp_addrolemember 'db_datareader', 'databricks_user';`<br>Optional write access:<br>`EXEC sp_addrolemember 'db_datawriter', 'databricks_user';` |\n",
    "| 🔒 Add Secrets to Azure Key Vault | Add the following secrets to your Key Vault:<br>- `sql-user` = `databricks_user`<br>- `sql-password` = `yourStrongPassword`<br>Ensure secrets are **Enabled**. |\n",
    "| 🧪 Test JDBC from Databricks | Use the helper script (`sql_connector.py`) in `/utils` to establish a secure JDBC connection. |\n",
    "\n",
    "---\n",
    "## 🔐 Secrets Scope and Key Vault Notes\n",
    "\n",
    "* Secret scope used: `databricks-secrets-lv426`\n",
    "* Keys expected:\n",
    "\n",
    "  * `sql-user`\n",
    "  * `sql-password`\n",
    "\n",
    "---\n",
    "\n",
    "## 🔧 Sample Connection Code\n",
    "\n",
    "```python\n",
    "jdbc_hostname = \"<your-host>\"\n",
    "jdbc_port = 1433\n",
    "jdbc_database = \"fury161\"\n",
    "\n",
    "jdbc_url = f\"jdbc:sqlserver://{jdbc_hostname}:{jdbc_port};database={jdbc_database}\"\n",
    "\n",
    "username = dbutils.secrets.get(scope=\"databricks-secrets-lv426\", key=\"sql-user\")\n",
    "password = dbutils.secrets.get(scope=\"databricks-secrets-lv426\", key=\"sql-password\")\n",
    "\n",
    "properties = {\n",
    "    \"user\": username,\n",
    "    \"password\": password,\n",
    "    \"driver\": \"com.microsoft.sqlserver.jdbc.SQLServerDriver\"\n",
    "}\n",
    "\n",
    "# Read test table\n",
    "df = spark.read.jdbc(url=jdbc_url, table=\"dbo.YourTable\", properties=properties)\n",
    "df.show()\n",
    "```\n",
    "\n",
    "---\n",
    "\n",
    "## 🔒 Notes\n",
    "\n",
    "* Confirm your firewall or local networking allows incoming connections from Databricks if required.\n",
    "* Adjust the JDBC hostname to point to the local IP or machine name if accessible within the same network.\n",
    "* You can optionally use Azure Data Factory or self-hosted integration runtime in future integrations.\n",
    "\n",
    "---\n",
    "\n",
    "> Last updated: July 2025\n",
    "## 🔐 Notes\n",
    "\n",
    "- This process uses **Azure Key Vault-backed secret scope** for secure credential management.\n",
    "- The JDBC driver required (`com.microsoft.sqlserver.jdbc.SQLServerDriver`) is available by default in most Databricks runtimes.\n",
    "- If needed, add IP firewall exceptions on your local machine to allow Databricks IPs to connect.\n",
    "\n",
    "\n",
    "\n"
   ]
  },
  {
   "cell_type": "markdown",
   "metadata": {
    "application/vnd.databricks.v1+cell": {
     "cellMetadata": {},
     "inputWidgets": {},
     "nuid": "db251493-e55d-4720-be3d-440b6514b782",
     "showTitle": false,
     "tableResultSettingsMap": {},
     "title": ""
    }
   },
   "source": [
    "# 🔤 Local SQL Server Setup (SSMS)\n",
    "\n",
    "This document outlines how to configure SQL Server locally (via SSMS) for secure integration with Databricks using JDBC and Azure Key Vault.\n",
    "\n",
    "---\n",
    "\n",
    "## ✅ Step-by-Step Configuration\n",
    "\n",
    "| Step                              | Description                                                                                                                                                          |\n",
    "| --------------------------------- | -------------------------------------------------------------------------------------------------------------------------------------------------------------------- |\n",
    "| ✅ Enable Mixed Authentication     | Open **Server Properties** > **Security** → Select `SQL Server and Windows Authentication mode`.                                                                     |\n",
    "| ➕ Create Login                    | In a new query window:<br>`CREATE LOGIN databricks_user WITH PASSWORD = 'yourStrongPassword';`                                                                       |\n",
    "| ➕ Create Database User            | In your target database:<br>`CREATE USER databricks_user FOR LOGIN databricks_user;`                                                                                 |\n",
    "| 👃 Grant Access                   | Read access:<br>`EXEC sp_addrolemember 'db_datareader', 'databricks_user';`<br>Optional write access:<br>`EXEC sp_addrolemember 'db_datawriter', 'databricks_user';` |\n",
    "| 🔒 Add Secrets to Azure Key Vault | Add the following secrets to your Key Vault:<br>- `sql-user` = `databricks_user`<br>- `sql-password` = `yourStrongPassword`<br>Ensure secrets are **Enabled**.       |\n",
    "| 🧪 Test JDBC from Databricks      | Use the helper script (`sql_connector.py`) in `/utils` to establish a secure JDBC connection.                                                                        |\n",
    "\n",
    "---\n",
    "\n",
    "\n"
   ]
  }
 ],
 "metadata": {
  "application/vnd.databricks.v1+notebook": {
   "computePreferences": null,
   "dashboards": [],
   "environmentMetadata": {
    "base_environment": "",
    "environment_version": "2"
   },
   "inputWidgetPreferences": null,
   "language": "python",
   "notebookMetadata": {
    "pythonIndentUnit": 4
   },
   "notebookName": "local_sqlserver_setup",
   "widgets": {}
  },
  "language_info": {
   "name": "python"
  }
 },
 "nbformat": 4,
 "nbformat_minor": 0
}
