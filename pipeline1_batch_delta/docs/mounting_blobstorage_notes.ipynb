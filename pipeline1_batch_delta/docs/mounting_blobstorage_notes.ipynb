{
 "cells": [
  {
   "cell_type": "markdown",
   "metadata": {
    "application/vnd.databricks.v1+cell": {
     "cellMetadata": {
      "byteLimit": 2048000,
      "rowLimit": 10000
     },
     "inputWidgets": {},
     "nuid": "e09f1d8b-4f5b-4c91-b900-d781a43eebf3",
     "showTitle": false,
     "tableResultSettingsMap": {},
     "title": ""
    }
   },
   "source": [
    "\n",
    "# Mounting Azure Blob Storage in Databricks\n",
    "_Last updated: 2025-06-25_\n",
    "\n",
    "---\n",
    "\n",
    "## ✅ Current Method: Using Azure Key Vault-backed Secret Scope\n",
    "\n",
    "**Why this method?**  \n",
    "Avoids hardcoding secrets. Securely pulls your storage account key from Azure Key Vault via Databricks-backed secret scope.\n",
    "\n",
    "---\n",
    "\n",
    "### 🔧 Setup Requirements\n",
    "\n",
    "1. **Azure Resources**:\n",
    "   - An existing Azure Blob Storage account (e.g., `datalakelv426`)\n",
    "   - One or more containers inside the storage account (e.g., `raw-ingest`, `external-ingest`)\n",
    "   - Azure Key Vault with a secret (e.g., `lv426-storage-key` = your access key)\n",
    "\n",
    "2. **Databricks Configuration**:\n",
    "   - A secret scope with backend type `AZURE_KEYVAULT`\n",
    "   - The secret scope must reference the correct Key Vault DNS and resource ID\n",
    "\n",
    "3. **Python Script** (used in `mount_lv426_blobstorage.py`):\n",
    "\n",
    "```python\n",
    "storage_account_name = \"datalakelv426\"\n",
    "containers = [\"raw-ingest\", \"external-ingest\"]\n",
    "mount_base = \"/mnt\"\n",
    "\n",
    "secret_scope = \"databricks-secrets-lv426\"\n",
    "secret_key_name = \"lv426-storage-key\"\n",
    "\n",
    "storage_key = dbutils.secrets.get(scope=secret_scope, key=secret_key_name)\n",
    "\n",
    "for container_name in containers:\n",
    "    mount_point = f\"{mount_base}/{container_name}\"\n",
    "    configs = {\n",
    "        f\"fs.azure.account.key.{storage_account_name}.blob.core.windows.net\": storage_key\n",
    "    }\n",
    "\n",
    "    if not any(mount.mountPoint == mount_point for mount in dbutils.fs.mounts()):\n",
    "        dbutils.fs.mount(\n",
    "            source=f\"wasbs://{container_name}@{storage_account_name}.blob.core.windows.net/\",\n",
    "            mount_point=mount_point,\n",
    "            extra_configs=configs\n",
    "        )\n",
    "        print(f\"✅ Mounted securely: {mount_point}\")\n",
    "    else:\n",
    "        print(f\"⚠️ Already mounted: {mount_point}\")\n",
    "```\n",
    "\n",
    "---\n",
    "\n",
    "### 🔒 Previous Methods\n",
    "\n",
    "#### 1. **Manual Key Input (for testing only)**\n",
    "\n",
    "- We manually pasted the access key directly in the script.\n",
    "- This method was deprecated due to obvious security risks.\n",
    "\n",
    "---\n",
    "\n",
    "### 🧪 Common Issues\n",
    "\n",
    "| Symptom | Cause | Solution |\n",
    "|--------|-------|----------|\n",
    "| `StorageKeyNotFound` | Incorrect secret scope or key name | Double check Azure Key Vault and secret names |\n",
    "| Already mounted error | Mount point exists | Run `dbutils.fs.unmount(\"/mnt/raw-ingest\")` before re-mounting |\n",
    "| InvalidKey error | KeyVault key expired or missing | Regenerate storage key and update Key Vault |\n",
    "\n",
    "---\n",
    "\n",
    "### 📁 Related Files in Repo\n",
    "\n",
    "- `utils/mount_lv426_blobstorage.py`\n",
    "- `docs/azure_key_vault_setup`\n",
    "- `docs/token_generation`\n",
    "\n"
   ]
  }
 ],
 "metadata": {
  "application/vnd.databricks.v1+notebook": {
   "computePreferences": null,
   "dashboards": [],
   "environmentMetadata": {
    "base_environment": "",
    "environment_version": "2"
   },
   "inputWidgetPreferences": null,
   "language": "python",
   "notebookMetadata": {
    "pythonIndentUnit": 4
   },
   "notebookName": "mounting_blobstorage_notes",
   "widgets": {}
  },
  "language_info": {
   "name": "python"
  }
 },
 "nbformat": 4,
 "nbformat_minor": 0
}
