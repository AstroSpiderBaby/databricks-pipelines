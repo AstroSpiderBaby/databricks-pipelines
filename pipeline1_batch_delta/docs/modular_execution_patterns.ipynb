{
 "cells": [
  {
   "cell_type": "code",
   "execution_count": 0,
   "metadata": {
    "application/vnd.databricks.v1+cell": {
     "cellMetadata": {},
     "inputWidgets": {},
     "nuid": "a3770267-9919-4955-84d4-7056d819b8f0",
     "showTitle": false,
     "tableResultSettingsMap": {},
     "title": ""
    }
   },
   "outputs": [],
   "source": [
    "\n",
    "# 📘 Modular Execution Patterns in Databricks\n",
    "\n",
    "This guide explains how to modularize Databricks pipelines using `%run` and `dbutils.notebook.run()` effectively. It includes usage patterns, best practices, and pros/cons of each approach.\n",
    "\n",
    "----\n",
    "\n",
    "## 1️⃣ `%run` – Inline Execution\n",
    "\n",
    "- **Purpose**: Share functions, variables, and constants across notebooks.\n",
    "- **Usage**:\n",
    "```python\n",
    "# Must be in its own cell\n",
    "%run /Repos/your_user@databricks.com/databricks-pipelines/pipeline1_batch_delta/utils/write_utils\n",
    "```\n",
    "\n",
    "- **Behavior**: Injects the code from the referenced notebook inline.\n",
    "- ✅ **Pros**:\n",
    "  - Simple\n",
    "  - Shares functions and variables\n",
    "- ❌ **Cons**:\n",
    "  - No parameter passing\n",
    "  - No return values\n",
    "  - Sequential execution only\n",
    "\n",
    "---\n",
    "\n",
    "## 2️⃣ `dbutils.notebook.run()` – Isolated Execution\n",
    "\n",
    "- **Purpose**: Run notebooks programmatically with arguments and capture outputs.\n",
    "- **Usage**:\n",
    "```python\n",
    "result = dbutils.notebook.run(\"/path/to/notebook\", timeout_seconds=300, arguments={\"param\": \"value\"})\n",
    "```\n",
    "\n",
    "- ✅ **Pros**:\n",
    "  - Supports arguments\n",
    "  - Returns a string\n",
    "  - Useful in workflows\n",
    "- ❌ **Cons**:\n",
    "  - Isolated environment\n",
    "  - No variable sharing\n",
    "  - Return values must be serialized strings\n",
    "\n",
    "---\n",
    "\n",
    "## 3️⃣ Best Practices\n",
    "\n",
    "| Use Case | Recommended Approach |\n",
    "|----------|-----------------------|\n",
    "| Utility functions, constants | `%run` |\n",
    "| Job workflows or pipelines | `dbutils.notebook.run()` |\n",
    "| Parallel execution | `dbutils.notebook.run()` |\n",
    "| Reusing logic across bronze/silver/gold | `%run` for logic, `dbutils.notebook.run()` for orchestration |\n",
    "\n",
    "---\n",
    "\n",
    "## 🧩 Example from This Project\n",
    "\n",
    "### In `mock_finance_invoices.py`:\n",
    "```python\n",
    "%run /Repos/your_user@databricks.com/databricks-pipelines/pipeline1_batch_delta/utils/write_utils\n",
    "```\n",
    "\n",
    "- Loads helper functions\n",
    "- Keeps notebook logic clean and modular\n",
    "\n",
    "---\n",
    "\n"
   ]
  }
 ],
 "metadata": {
  "application/vnd.databricks.v1+notebook": {
   "computePreferences": null,
   "dashboards": [],
   "environmentMetadata": {
    "base_environment": "",
    "environment_version": "2"
   },
   "inputWidgetPreferences": null,
   "language": "python",
   "notebookMetadata": {
    "pythonIndentUnit": 4
   },
   "notebookName": "modular_execution_patterns",
   "widgets": {}
  },
  "language_info": {
   "name": "python"
  }
 },
 "nbformat": 4,
 "nbformat_minor": 0
}
