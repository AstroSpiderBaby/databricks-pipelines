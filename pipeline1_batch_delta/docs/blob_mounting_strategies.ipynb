{
 "cells": [
  {
   "cell_type": "code",
   "execution_count": 0,
   "metadata": {
    "application/vnd.databricks.v1+cell": {
     "cellMetadata": {},
     "inputWidgets": {},
     "nuid": "86007cee-b521-4c63-b6a9-14240e6518c5",
     "showTitle": false,
     "tableResultSettingsMap": {},
     "title": ""
    }
   },
   "outputs": [],
   "source": [
    "\"\"\"\n",
    "# 📄 Blob Mounting Strategies (Legacy)\n",
    "\n",
    "This notebook demonstrates two methods for mounting Azure Blob Storage containers in Databricks.\n",
    "\n",
    "## Purpose:\n",
    "To showcase alternative credential handling strategies prior to adopting secure secret management via Azure Key Vault.\n",
    "\n",
    "## Mounting Methods Covered:\n",
    "1. **Manual Key Injection**  \n",
    "   - Requires direct entry of the Azure Storage account key.\n",
    "   - Demonstrates how to build and mount using hardcoded credentials (not recommended for production).\n",
    "\n",
    "2. **Databricks Secret Scope**  \n",
    "   - Retrieves the storage account key from a Databricks-managed secret scope.\n",
    "   - Suitable for development environments with basic secret rotation policies.\n",
    "\n",
    "## Notes:\n",
    "- These methods are maintained for historical reference and debugging.\n",
    "- For production workloads, it is strongly recommended to use Azure Key Vault integration as shown in `azure_key_vault_setup`.\n",
    "\n",
    "\"\"\"\n"
   ]
  },
  {
   "cell_type": "markdown",
   "metadata": {
    "application/vnd.databricks.v1+cell": {
     "cellMetadata": {},
     "inputWidgets": {},
     "nuid": "98bbed15-f660-4a88-bd4b-c74f7d7a9f78",
     "showTitle": false,
     "tableResultSettingsMap": {},
     "title": ""
    }
   },
   "source": [
    "%md\n",
    "**MANUAL KEY TEST**"
   ]
  },
  {
   "cell_type": "code",
   "execution_count": 0,
   "metadata": {
    "application/vnd.databricks.v1+cell": {
     "cellMetadata": {},
     "inputWidgets": {},
     "nuid": "2827f1de-7f1e-4936-bb1f-5eadc07b68bb",
     "showTitle": false,
     "tableResultSettingsMap": {},
     "title": ""
    }
   },
   "outputs": [],
   "source": [
    "# utils/mount_lv426_blobstorage.py\n",
    "\n",
    "# Parameters\n",
    "storage_account_name = \"datalakelv426\"\n",
    "containers = [\"raw-ingest\", \"external-ingest\"]\n",
    "mount_base = \"/mnt\"\n",
    "\n",
    "# Use hardcoded key (demo only — in prod use Key Vault or Secret Scope)\n",
    "storage_key = \"\"\n",
    "\n",
    "# Loop through containers and mount if not already mounted\n",
    "for container_name in containers:\n",
    "    mount_point = f\"{mount_base}/{container_name}\"\n",
    "    configs = {\n",
    "        f\"fs.azure.account.key.{storage_account_name}.blob.core.windows.net\": storage_key\n",
    "    }\n",
    "\n",
    "    if not any(mount.mountPoint == mount_point for mount in dbutils.fs.mounts()):\n",
    "        dbutils.fs.mount(\n",
    "            source=f\"wasbs://{container_name}@{storage_account_name}.blob.core.windows.net/\",\n",
    "            mount_point=mount_point,\n",
    "            extra_configs=configs\n",
    "        )\n",
    "        print(f\"✅ Mounted: {mount_point}\")\n",
    "    else:\n",
    "        print(f\"⚠️ Already mounted: {mount_point}\")\n"
   ]
  },
  {
   "cell_type": "markdown",
   "metadata": {
    "application/vnd.databricks.v1+cell": {
     "cellMetadata": {},
     "inputWidgets": {},
     "nuid": "34cf4e3e-417f-4da8-8cfe-bc5ea6aac2e2",
     "showTitle": false,
     "tableResultSettingsMap": {},
     "title": ""
    }
   },
   "source": [
    "**SECRETE SCOPE VERSION**"
   ]
  },
  {
   "cell_type": "markdown",
   "metadata": {
    "application/vnd.databricks.v1+cell": {
     "cellMetadata": {},
     "inputWidgets": {},
     "nuid": "fe074be4-8abc-4f7c-9015-687ade1c8001",
     "showTitle": false,
     "tableResultSettingsMap": {},
     "title": ""
    }
   },
   "source": [
    "dbutils.secrets.listScopes()"
   ]
  },
  {
   "cell_type": "code",
   "execution_count": 0,
   "metadata": {
    "application/vnd.databricks.v1+cell": {
     "cellMetadata": {},
     "inputWidgets": {},
     "nuid": "ddab12dc-2378-4c43-a66b-88e779bd648a",
     "showTitle": false,
     "tableResultSettingsMap": {},
     "title": ""
    }
   },
   "outputs": [],
   "source": [
    "# utils/mount_lv426_blobstorage.py\n",
    "\n",
    "# Parameters\n",
    "storage_account_name = \"datalakelv426\"\n",
    "containers = [\"raw-ingest\", \"external-ingest\"]\n",
    "mount_base = \"/mnt\"\n",
    "\n",
    "# Secret Scope setup (must already be created in Databricks via UI or CLI)\n",
    "secret_scope = \"lv426\"  # This is the name of your Databricks secret scope\n",
    "secret_key_name = \"lv426-storage-key\"  # This is the name of the key in the scope\n",
    "\n",
    "# Get key securely from secret scope\n",
    "storage_key = dbutils.secrets.get(scope=secret_scope, key=secret_key_name)\n",
    "\n",
    "# Loop through containers and mount them\n",
    "for container_name in containers:\n",
    "    mount_point = f\"{mount_base}/{container_name}\"\n",
    "    configs = {\n",
    "        f\"fs.azure.account.key.{storage_account_name}.blob.core.windows.net\": storage_key\n",
    "    }\n",
    "\n",
    "    if not any(mount.mountPoint == mount_point for mount in dbutils.fs.mounts()):\n",
    "        dbutils.fs.mount(\n",
    "            source=f\"wasbs://{container_name}@{storage_account_name}.blob.core.windows.net/\",\n",
    "            mount_point=mount_point,\n",
    "            extra_configs=configs\n",
    "        )\n",
    "        print(f\"✅ Mounted securely: {mount_point}\")\n",
    "    else:\n",
    "        print(f\"⚠️ Already mounted: {mount_point}\")"
   ]
  }
 ],
 "metadata": {
  "application/vnd.databricks.v1+notebook": {
   "computePreferences": null,
   "dashboards": [],
   "environmentMetadata": {
    "base_environment": "",
    "environment_version": "2"
   },
   "inputWidgetPreferences": null,
   "language": "python",
   "notebookMetadata": {
    "pythonIndentUnit": 4
   },
   "notebookName": "blob_mounting_strategies",
   "widgets": {}
  },
  "language_info": {
   "name": "python"
  }
 },
 "nbformat": 4,
 "nbformat_minor": 0
}
