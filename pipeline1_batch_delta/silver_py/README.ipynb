{
 "cells": [
  {
   "cell_type": "code",
   "execution_count": 0,
   "metadata": {
    "application/vnd.databricks.v1+cell": {
     "cellMetadata": {},
     "inputWidgets": {},
     "nuid": "0b6e2cef-b555-482f-a3e7-8a0b8ac26fb5",
     "showTitle": false,
     "tableResultSettingsMap": {},
     "title": ""
    }
   },
   "outputs": [],
   "source": [
    "# ⚪ Silver Layer – Data Cleaning & Enrichment\n",
    "\n",
    "This folder contains all **Silver-level transformation scripts** that clean, standardize, enrich, and join data from the Bronze layer into structured Delta tables within **Unity Catalog**.\n",
    "\n",
    "Each script focuses on producing clean, business-ready tables while maintaining lineage and traceability.\n",
    "\n",
    "---\n",
    "\n",
    "## ⚙️ Key Features\n",
    "\n",
    "- **Reads From:**  \n",
    "  - Unity Catalog Bronze Volumes (`/Volumes/thebetty/bronze/...`)\n",
    "- **Writes To:**  \n",
    "  - Unity Catalog Silver Volumes (`/Volumes/thebetty/silver/...`)\n",
    "  - Unity Catalog Silver Tables (e.g., `thebetty.silver.*`)\n",
    "- **Actions Performed:**  \n",
    "  - Cleansing & validation  \n",
    "  - Type casting (dates, flags)  \n",
    "  - Enrichment with lookups  \n",
    "  - Hashing & deduplication  \n",
    "  - Pre-aggregation for Gold\n",
    "\n",
    "---\n",
    "\n",
    "## 📄 Scripts Overview\n",
    "\n",
    "| Script Name | Description |\n",
    "|-------------|-------------|\n",
    "| `silver_finance_invoices_clean.py` | Cleans finance invoices, maps `vendor_id`, adds date types, and generates hash keys |\n",
    "| `silver_web_forms_clean.py` | Extracts and normalizes JSON web form submissions |\n",
    "| `silver_vendor_summary_prep.py` | Joins finance + compliance for Gold prep |\n",
    "| `silver_inventory_shipments_join.py` | Joins inventory and shipments on `vendor_id` |\n",
    "| `silver_join_finance_with_registry.py` | Enriches invoices with ADF vendor registry data |\n",
    "| `silver_finance_vendor_join.py` | Merges Silver invoices with vendor metadata |\n",
    "| `silver_join_finance_with_registry.py` | Joins finance with vendor registry (for new ADF pipeline) |\n",
    "| `adf_data_py/vendor_registry_silver.py` | Mirrors and cleans vendor registry from ADF to Silver table |\n",
    "\n",
    "---\n",
    "\n",
    "## 📦 Output Tables (Unity Catalog)\n",
    "\n",
    "| Table Name | Location |\n",
    "|------------|----------|\n",
    "| `thebetty.silver.finances_invoices_clean` | `/Volumes/thebetty/silver/finances_invoices_clean` |\n",
    "| `thebetty.silver.web_forms_clean` | `/Volumes/thebetty/silver/web_forms_clean` |\n",
    "| `thebetty.silver.vendor_compliance_clean` | `/Volumes/thebetty/silver/vendor_compliance_clean` |\n",
    "| `thebetty.silver.inventory_shipments_joined_clean` | `/Volumes/thebetty/silver/inventory_shipments_joined_clean` |\n",
    "| `thebetty.silver.finance_with_vendor_info` | `/Volumes/thebetty/silver/finance_with_vendor_info` |\n",
    "| `thebetty.silver.vendor_registry_clean` | `/Volumes/thebetty/silver/vendor_registry_clean` |\n",
    "| `thebetty.silver.final_vendor_summary_prep` | `/Volumes/thebetty/silver/final_vendor_summary_prep` |\n",
    "\n",
    "---\n",
    "\n",
    "📂 **ADF-specific transformations are managed in** `adf_data_py/`\n",
    "\n",
    "🔙 [Back to Root README](../../README.md)\n"
   ]
  }
 ],
 "metadata": {
  "application/vnd.databricks.v1+notebook": {
   "computePreferences": null,
   "dashboards": [],
   "environmentMetadata": {
    "base_environment": "",
    "environment_version": "2"
   },
   "inputWidgetPreferences": null,
   "language": "python",
   "notebookMetadata": {
    "pythonIndentUnit": 4
   },
   "notebookName": "README",
   "widgets": {}
  },
  "language_info": {
   "name": "python"
  }
 },
 "nbformat": 4,
 "nbformat_minor": 0
}
