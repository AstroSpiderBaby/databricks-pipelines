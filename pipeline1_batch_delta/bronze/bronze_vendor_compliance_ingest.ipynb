{
 "cells": [
  {
   "cell_type": "code",
   "execution_count": 0,
   "metadata": {
    "application/vnd.databricks.v1+cell": {
     "cellMetadata": {},
     "inputWidgets": {},
     "nuid": "87ded12d-99ff-4b14-94b3-37eb4e2a688e",
     "showTitle": false,
     "tableResultSettingsMap": {},
     "title": ""
    }
   },
   "outputs": [],
   "source": [
    "\"\"\"\n",
    "vendor_compliance\n",
    "\n",
    "Ingests vendor compliance data from a SQL Server table and writes it to the Bronze Delta Lake layer.\n",
    "\n",
    "- Reads data from: `fury161.dbo.vendor_compliance` (SQL Server)\n",
    "- Uses `read_sql_table()` via `sql_connector_new` to establish JDBC connection\n",
    "- Writes Delta table to: `/mnt/delta/bronze/vendor_compliance`\n",
    "\n",
    "Uses:\n",
    "- Credentials stored in Azure Key Vault\n",
    "- `write_df_to_delta()` utility for consistent Delta write settings\n",
    "\n",
    "Example:\n",
    "    %run /Repos/username@databricks.com/databricks-pipelines/.../sql_connector_new\n",
    "    %run /Repos/username@databricks.com/databricks-pipelines/.../write_utils\n",
    "\"\"\"\n"
   ]
  },
  {
   "cell_type": "code",
   "execution_count": 0,
   "metadata": {
    "application/vnd.databricks.v1+cell": {
     "cellMetadata": {
      "byteLimit": 2048000,
      "rowLimit": 10000
     },
     "inputWidgets": {},
     "nuid": "e636cfce-28ef-4c0e-8725-869ceb50a825",
     "showTitle": false,
     "tableResultSettingsMap": {},
     "title": ""
    }
   },
   "outputs": [],
   "source": [
    "%run /Repos/brucejenks@live.com/databricks-pipelines/pipeline1_batch_delta/utils/utils_sql_connector"
   ]
  },
  {
   "cell_type": "code",
   "execution_count": 0,
   "metadata": {
    "application/vnd.databricks.v1+cell": {
     "cellMetadata": {
      "byteLimit": 2048000,
      "rowLimit": 10000
     },
     "inputWidgets": {},
     "nuid": "115815ab-8f74-4881-94a7-08a8c4d7eb0a",
     "showTitle": false,
     "tableResultSettingsMap": {},
     "title": ""
    }
   },
   "outputs": [],
   "source": [
    "\n",
    "%run \"/Repos/brucejenks@live.com/databricks-pipelines/pipeline1_batch_delta/utils/utils_write_delta\""
   ]
  },
  {
   "cell_type": "code",
   "execution_count": 0,
   "metadata": {
    "application/vnd.databricks.v1+cell": {
     "cellMetadata": {
      "byteLimit": 2048000,
      "rowLimit": 10000
     },
     "inputWidgets": {},
     "nuid": "52fd8bf4-2718-44a8-bd7c-ee0b0d470295",
     "showTitle": false,
     "tableResultSettingsMap": {},
     "title": ""
    }
   },
   "outputs": [],
   "source": [
    "\n",
    "\n",
    "\n",
    "df = read_sql_table(\"fury161.dbo.vendor_compliance\")\n",
    "\n",
    "write_df_to_delta(df, \"/mnt/delta/bronze/vendor_compliance\")\n"
   ]
  },
  {
   "cell_type": "code",
   "execution_count": 0,
   "metadata": {
    "application/vnd.databricks.v1+cell": {
     "cellMetadata": {
      "byteLimit": 2048000,
      "rowLimit": 10000
     },
     "inputWidgets": {},
     "nuid": "b6f8edce-9010-42b0-8161-08838d52d5de",
     "showTitle": false,
     "tableResultSettingsMap": {},
     "title": ""
    }
   },
   "outputs": [],
   "source": [
    "display(df)\n"
   ]
  },
  {
   "cell_type": "code",
   "execution_count": 0,
   "metadata": {
    "application/vnd.databricks.v1+cell": {
     "cellMetadata": {},
     "inputWidgets": {},
     "nuid": "0cb28074-c897-41af-a6bb-3f634bc14fda",
     "showTitle": false,
     "tableResultSettingsMap": {},
     "title": ""
    }
   },
   "outputs": [],
   "source": []
  },
  {
   "cell_type": "code",
   "execution_count": 0,
   "metadata": {
    "application/vnd.databricks.v1+cell": {
     "cellMetadata": {},
     "inputWidgets": {},
     "nuid": "9f6c382b-311b-420e-b70e-06c9b3f29108",
     "showTitle": false,
     "tableResultSettingsMap": {},
     "title": ""
    }
   },
   "outputs": [],
   "source": []
  }
 ],
 "metadata": {
  "application/vnd.databricks.v1+notebook": {
   "computePreferences": null,
   "dashboards": [],
   "environmentMetadata": {
    "base_environment": "",
    "environment_version": "2"
   },
   "inputWidgetPreferences": null,
   "language": "python",
   "notebookMetadata": {
    "pythonIndentUnit": 4
   },
   "notebookName": "bronze_vendor_compliance_ingest",
   "widgets": {}
  },
  "language_info": {
   "name": "python"
  }
 },
 "nbformat": 4,
 "nbformat_minor": 0
}
