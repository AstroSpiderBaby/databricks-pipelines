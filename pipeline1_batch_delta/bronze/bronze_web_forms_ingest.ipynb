{
 "cells": [
  {
   "cell_type": "code",
   "execution_count": 0,
   "metadata": {
    "application/vnd.databricks.v1+cell": {
     "cellMetadata": {},
     "inputWidgets": {},
     "nuid": "be8748bd-16ac-4b93-ad44-9af40938fc15",
     "showTitle": false,
     "tableResultSettingsMap": {},
     "title": ""
    }
   },
   "outputs": [],
   "source": [
    "\"\"\"\n",
    "mock_web_forms.py\n",
    "\n",
    "Ingests mock multiline JSON web form submissions from Azure Blob Storage and writes them to the Bronze Delta Lake layer.\n",
    "\n",
    "- Reads JSON data from: `/mnt/external-ingest/web_form_submissions.json`\n",
    "- Adds metadata columns: `source_file`, `ingestion_type`\n",
    "- Writes Delta table to: `/mnt/delta/bronze/web_forms`\n",
    "\n",
    "Uses:\n",
    "- JSON multiline mode for proper parsing\n",
    "- `input_file_name()` and `lit(\"web_forms\")` for metadata tagging\n",
    "\n",
    "Example:\n",
    "    %run /Repos/username@databricks.com/databricks-pipelines/.../write_utils\n",
    "\"\"\"\n"
   ]
  },
  {
   "cell_type": "code",
   "execution_count": 0,
   "metadata": {
    "application/vnd.databricks.v1+cell": {
     "cellMetadata": {
      "byteLimit": 2048000,
      "rowLimit": 10000
     },
     "inputWidgets": {},
     "nuid": "05c37d3c-b935-45ac-8398-ccdcf485f89f",
     "showTitle": false,
     "tableResultSettingsMap": {},
     "title": ""
    }
   },
   "outputs": [],
   "source": [
    "%run \"/Repos/brucejenks@live.com/databricks-pipelines/pipeline1_batch_delta/utils/utils_write_delta\""
   ]
  },
  {
   "cell_type": "code",
   "execution_count": 0,
   "metadata": {
    "application/vnd.databricks.v1+cell": {
     "cellMetadata": {
      "byteLimit": 2048000,
      "rowLimit": 10000
     },
     "inputWidgets": {},
     "nuid": "6ab6a49c-2fd6-4292-bec0-5a6a75ad945d",
     "showTitle": false,
     "tableResultSettingsMap": {},
     "title": ""
    }
   },
   "outputs": [],
   "source": [
    "\n",
    "from pyspark.sql.functions import lit\n",
    "\n",
    "path = \"dbfs:/mnt/external-ingest/web_form_submissions.json\"\n",
    "\n",
    "df_web = spark.read.option(\"multiline\", \"true\").json(path)\n",
    "df_web = df_web.withColumn(\"source_file\", lit(\"web_form_submissions.json\"))\n",
    "\n",
    "write_df_to_delta(df_web, \"/mnt/delta/bronze/web_form_submissions\")\n"
   ]
  },
  {
   "cell_type": "code",
   "execution_count": 0,
   "metadata": {
    "application/vnd.databricks.v1+cell": {
     "cellMetadata": {
      "byteLimit": 2048000,
      "rowLimit": 10000
     },
     "inputWidgets": {},
     "nuid": "1313d234-cd48-4c82-b70a-04eabcc51404",
     "showTitle": false,
     "tableResultSettingsMap": {},
     "title": ""
    }
   },
   "outputs": [],
   "source": [
    "df_web_check = spark.read.format(\"delta\").load(\"/mnt/delta/bronze/web_form_submissions\")\n",
    "display(df_web_check)"
   ]
  }
 ],
 "metadata": {
  "application/vnd.databricks.v1+notebook": {
   "computePreferences": null,
   "dashboards": [],
   "environmentMetadata": {
    "base_environment": "",
    "environment_version": "2"
   },
   "inputWidgetPreferences": null,
   "language": "python",
   "notebookMetadata": {
    "pythonIndentUnit": 4
   },
   "notebookName": "bronze_web_forms_ingest",
   "widgets": {}
  },
  "language_info": {
   "name": "python"
  }
 },
 "nbformat": 4,
 "nbformat_minor": 0
}
