{
 "cells": [
  {
   "cell_type": "code",
   "execution_count": 0,
   "metadata": {
    "application/vnd.databricks.v1+cell": {
     "cellMetadata": {},
     "inputWidgets": {},
     "nuid": "bbae1e2b-1c02-4c80-87b1-d80383c94dd9",
     "showTitle": false,
     "tableResultSettingsMap": {},
     "title": ""
    }
   },
   "outputs": [],
   "source": [
    "\"\"\"\n",
    "mock_shipments.py\n",
    "\n",
    "Ingests mock shipment data from a raw CSV file and writes it to the Bronze Delta Lake layer.\n",
    "\n",
    "- Reads data from: `/mnt/raw-ingest/shipment_data.csv`\n",
    "- Adds metadata columns: `source_file`, `ingestion_type`\n",
    "- Writes Delta table to: `/mnt/delta/bronze/shipments`\n",
    "\n",
    "Uses:\n",
    "- `input_file_name()` to track the origin of each row\n",
    "- `lit(\"shipments\")` to label ingestion source\n",
    "\n",
    "Example:\n",
    "    %run /Repos/username@databricks.com/databricks-pipelines/.../write_utils\n",
    "\"\"\"\n"
   ]
  },
  {
   "cell_type": "code",
   "execution_count": 0,
   "metadata": {
    "application/vnd.databricks.v1+cell": {
     "cellMetadata": {
      "byteLimit": 2048000,
      "rowLimit": 10000
     },
     "inputWidgets": {},
     "nuid": "8b9641b6-0e6a-4405-9b07-1ac4261676f0",
     "showTitle": false,
     "tableResultSettingsMap": {},
     "title": ""
    }
   },
   "outputs": [],
   "source": [
    "%run /Repos/brucejenks@live.com/databricks-pipelines/pipeline1_batch_delta/utils/write_utils"
   ]
  },
  {
   "cell_type": "code",
   "execution_count": 0,
   "metadata": {
    "application/vnd.databricks.v1+cell": {
     "cellMetadata": {
      "byteLimit": 2048000,
      "rowLimit": 10000
     },
     "inputWidgets": {},
     "nuid": "4ef2fed3-3154-4d2a-ad3f-7244df56956c",
     "showTitle": false,
     "tableResultSettingsMap": {},
     "title": ""
    }
   },
   "outputs": [],
   "source": [
    "\n",
    "from pyspark.sql import SparkSession\n",
    "\n",
    "spark = SparkSession.builder.getOrCreate()\n",
    "\n",
    "shipments_path = \"dbfs:/FileStore/pipeline1_batch_delta/moc_source_b/Shipments.csv\"\n",
    "\n",
    "df_shipments = (\n",
    "    spark.read\n",
    "    .option(\"header\", \"true\")\n",
    "    .option(\"inferSchema\", \"true\")\n",
    "    .csv(shipments_path)\n",
    ")\n",
    "\n",
    "write_df_to_delta(df_shipments, \"/mnt/delta/bronze/shipments\")\n"
   ]
  }
 ],
 "metadata": {
  "application/vnd.databricks.v1+notebook": {
   "computePreferences": null,
   "dashboards": [],
   "environmentMetadata": {
    "base_environment": "",
    "environment_version": "2"
   },
   "inputWidgetPreferences": null,
   "language": "python",
   "notebookMetadata": {
    "pythonIndentUnit": 4
   },
   "notebookName": "mock_shipments.py",
   "widgets": {}
  },
  "language_info": {
   "name": "python"
  }
 },
 "nbformat": 4,
 "nbformat_minor": 0
}
