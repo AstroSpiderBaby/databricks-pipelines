{
 "cells": [
  {
   "cell_type": "markdown",
   "metadata": {
    "application/vnd.databricks.v1+cell": {
     "cellMetadata": {},
     "inputWidgets": {},
     "nuid": "0ec89cc2-34a1-4ede-b21b-1ab44dbf5d5b",
     "showTitle": false,
     "tableResultSettingsMap": {},
     "title": ""
    }
   },
   "source": [
    "# Bronze Layer\n",
    "\n",
    "This folder contains raw ingestion scripts that load source data into the Bronze Delta Lake layer.\n",
    "\n",
    "Each script corresponds to a specific mock data source (e.g., `inventory`, `shipments`, `vendors`). \n",
    "The data is read from CSV files stored in FileStore and written to Delta tables in `/mnt/delta/bronze/`.\n",
    "\n",
    "**Purpose:** Capture the raw, untransformed data for traceability and reproducibility.\n",
    "\n",
    "**Scripts:**\n",
    "- `mock_inventory.py`\n",
    "- `mock_shipments.py`\n",
    "- `mock_vendors.py`\n",
    "\n"
   ]
  }
 ],
 "metadata": {
  "application/vnd.databricks.v1+notebook": {
   "computePreferences": null,
   "dashboards": [],
   "environmentMetadata": {
    "base_environment": "",
    "environment_version": "2"
   },
   "inputWidgetPreferences": null,
   "language": "python",
   "notebookMetadata": {
    "pythonIndentUnit": 4
   },
   "notebookName": "README.md",
   "widgets": {}
  },
  "language_info": {
   "name": "python"
  }
 },
 "nbformat": 4,
 "nbformat_minor": 0
}
