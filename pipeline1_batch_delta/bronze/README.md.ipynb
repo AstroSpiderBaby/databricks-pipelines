{
 "cells": [
  {
   "cell_type": "markdown",
   "metadata": {
    "application/vnd.databricks.v1+cell": {
     "cellMetadata": {},
     "inputWidgets": {},
     "nuid": "0ec89cc2-34a1-4ede-b21b-1ab44dbf5d5b",
     "showTitle": false,
     "tableResultSettingsMap": {},
     "title": ""
    }
   },
   "source": [
    "\n",
    "## 🟫 Bronze Layer\n",
    "\n",
    "This folder contains ingestion scripts that load raw source data into the Bronze layer of the Delta Lake.\n",
    "\n",
    "Each `.py` script corresponds to a mock dataset (e.g., inventory, shipments, vendors, web form submissions), simulating different ingestion patterns for testing and development.\n",
    "\n",
    "**Key Characteristics:**\n",
    "- Reads from local FileStore or mounted Azure Blob paths (e.g., `/mnt/external-ingest`)\n",
    "- Writes raw Delta tables to `/mnt/delta/bronze/`\n",
    "- No transformations applied — retains source fidelity for traceability\n",
    "\n",
    "**Included Scripts:**\n",
    "- `mock_inventory.py` – Ingests inventory data from CSV\n",
    "- `mock_shipments.py` – Ingests shipment data from CSV\n",
    "- `mock_vendors.py` – Loads vendor records for enrichment\n",
    "- `mock_web_forms.py` – Loads multiline JSON form submissions from Azure Blob Storage\n",
    "- `mock_finance_invoices.py` – Loads invoice records from a CSV file into the Bronze Delta Lake layer.\n",
    "\n"
   ]
  }
 ],
 "metadata": {
  "application/vnd.databricks.v1+notebook": {
   "computePreferences": null,
   "dashboards": [],
   "environmentMetadata": {
    "base_environment": "",
    "environment_version": "2"
   },
   "inputWidgetPreferences": null,
   "language": "python",
   "notebookMetadata": {
    "pythonIndentUnit": 4
   },
   "notebookName": "README.md",
   "widgets": {}
  },
  "language_info": {
   "name": "python"
  }
 },
 "nbformat": 4,
 "nbformat_minor": 0
}
