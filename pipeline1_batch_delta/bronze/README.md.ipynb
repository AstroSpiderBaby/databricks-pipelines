{
 "cells": [
  {
   "cell_type": "code",
   "execution_count": 0,
   "metadata": {
    "application/vnd.databricks.v1+cell": {
     "cellMetadata": {},
     "inputWidgets": {},
     "nuid": "0ec89cc2-34a1-4ede-b21b-1ab44dbf5d5b",
     "showTitle": false,
     "tableResultSettingsMap": {},
     "title": ""
    }
   },
   "outputs": [],
   "source": [
    "# 🟫 Bronze Layer\n",
    "\n",
    "This folder contains modular ingestion scripts that load **raw source data** into the **Bronze layer** of the Lakehouse using **Unity Catalog Volumes** and the **Delta Lake** format.\n",
    "\n",
    "Each `.py` script ingests a specific source system or data domain (e.g., inventory, shipments, vendors) and writes untransformed records to Delta for traceability and reprocessing.\n",
    "\n",
    "---\n",
    "\n",
    "## 📥 Key Characteristics\n",
    "\n",
    "- **Reads From:**\n",
    "  - Azure Blob Storage containers (e.g., `raw-ingest`, `external-ingest`)\n",
    "  - Azure Data Factory–triggered containers (e.g., `adf-silver`)\n",
    "  - Local SQL Server via **ngrok** tunnel (JDBC)\n",
    "- **Writes To:**\n",
    "  - Unity Catalog Volumes: `/Volumes/thebetty/bronze/...`\n",
    "  - Unity Catalog Tables under: `thebetty.bronze.*`\n",
    "- **Transformations:**\n",
    "  - None — full fidelity ingestion\n",
    "  - Only minimal cleanup (e.g., schema enforcement, column typing)\n",
    "- **Supported Formats:**\n",
    "  - CSV, JSON, Parquet, JDBC (SQL Server)\n",
    "\n",
    "---\n",
    "\n",
    "## 📂 Included Scripts\n",
    "\n",
    "| Script Name                             | Description                                                                 |\n",
    "|----------------------------------------|-----------------------------------------------------------------------------|\n",
    "| `bronze_finances_invoices_ingest.py`   | Ingests financial invoice data from Blob CSV to Unity Volume                |\n",
    "| `bronze_inventory_ingest.py`           | Loads inventory CSV data and maps to vendor IDs                             |\n",
    "| `bronze_shipments_ingest.py`           | Loads shipment records with simulated timestamps                            |\n",
    "| `bronze_vendors_ingest.py`             | Ingests vendor master data from CSV                                         |\n",
    "| `bronze_web_forms_ingest.py`           | Loads web form JSON submissions from Azure Blob                             |\n",
    "| `bronze_vendor_compliance_ingest.py`   | Reads SQL Server vendor compliance data using JDBC + ngrok                 |\n",
    "\n",
    "---\n",
    "\n",
    "## 🗂️ Output Structure\n",
    "\n",
    "- Volume location: `/Volumes/thebetty/bronze/<dataset>`\n",
    "- Unity table: `thebetty.bronze.<dataset>`\n",
    "\n",
    "---\n",
    "\n",
    "✅ Ingestion scripts are fully compatible with Unity Catalog and use modular utilities for:\n",
    "- Delta write logic\n",
    "- Secret management\n",
    "- JDBC tunneling\n",
    "- Schema enforcement\n",
    "\n",
    "---\n",
    "\n",
    "🔙 [Back to Root README](../../README.md)\n"
   ]
  }
 ],
 "metadata": {
  "application/vnd.databricks.v1+notebook": {
   "computePreferences": null,
   "dashboards": [],
   "environmentMetadata": {
    "base_environment": "",
    "environment_version": "2"
   },
   "inputWidgetPreferences": null,
   "language": "python",
   "notebookMetadata": {
    "pythonIndentUnit": 4
   },
   "notebookName": "README.md",
   "widgets": {}
  },
  "language_info": {
   "name": "python"
  }
 },
 "nbformat": 4,
 "nbformat_minor": 0
}
