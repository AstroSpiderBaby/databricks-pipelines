{
 "cells": [
  {
   "cell_type": "markdown",
   "metadata": {
    "application/vnd.databricks.v1+cell": {
     "cellMetadata": {},
     "inputWidgets": {},
     "nuid": "0ec89cc2-34a1-4ede-b21b-1ab44dbf5d5b",
     "showTitle": false,
     "tableResultSettingsMap": {},
     "title": ""
    }
   },
   "source": [
    "# 🟫 Bronze Layer\n",
    "\n",
    "This folder contains ingestion scripts that load raw source data into the Bronze layer of the Delta Lake.\n",
    "\n",
    "Each `.py` script corresponds to a mock or real dataset (e.g., inventory, shipments, vendors, web form submissions), simulating various ingestion patterns for testing and development.\n",
    "\n",
    "## Key Characteristics:\n",
    "- Reads from:\n",
    "  - Azure Blob Storage (e.g., `/mnt/external-ingest`)\n",
    "  - Local SQL Server (via Ngrok tunnel for secure development connectivity)\n",
    "- Writes raw Delta tables to `/mnt/delta/bronze/`\n",
    "- No transformations applied — preserves source fidelity for traceability\n",
    "\n",
    "## Included Scripts:\n",
    "- `mock_inventory.py` – Ingests inventory data from CSV imported directly\n",
    "- `mock_shipments.py` – Ingests shipment data from CSV imported directly \n",
    "- `mock_vendors.py` – Loads vendor data from CSV imported directly \n",
    "- `mock_web_forms.py` – Loads multiline JSON submissions from Azure Blob\n",
    "- `mock_finance_invoices.py` – Loads invoice records from Azure Blob Storage\n",
    "- `vendor_compliance` – Pulls metadata from `fury161` database via local SQL Server using Ngrok tunnel\n",
    "\n",
    "🔙 [Back to Root README](../../README.md)"
   ]
  }
 ],
 "metadata": {
  "application/vnd.databricks.v1+notebook": {
   "computePreferences": null,
   "dashboards": [],
   "environmentMetadata": {
    "base_environment": "",
    "environment_version": "2"
   },
   "inputWidgetPreferences": null,
   "language": "python",
   "notebookMetadata": {
    "pythonIndentUnit": 4
   },
   "notebookName": "README.md",
   "widgets": {}
  },
  "language_info": {
   "name": "python"
  }
 },
 "nbformat": 4,
 "nbformat_minor": 0
}
