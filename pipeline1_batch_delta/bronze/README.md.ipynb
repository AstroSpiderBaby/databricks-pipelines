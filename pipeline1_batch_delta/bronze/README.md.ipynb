{
 "cells": [
  {
   "cell_type": "code",
   "execution_count": 0,
   "metadata": {
    "application/vnd.databricks.v1+cell": {
     "cellMetadata": {},
     "inputWidgets": {},
     "nuid": "0ec89cc2-34a1-4ede-b21b-1ab44dbf5d5b",
     "showTitle": false,
     "tableResultSettingsMap": {},
     "title": ""
    }
   },
   "outputs": [],
   "source": [
    "# Bronze Layer\n",
    "\n",
    "This folder contains raw ingestion scripts that load source data into the Bronze Delta Lake layer.\n",
    "\n",
    "Each script corresponds to a specific data source (e.g., `source_a`, `source_b`, `source_c`). \n",
    "The data is read from CSV files or other raw formats and stored as-is into `/mnt/delta/bronze/`.\n",
    "\n",
    "**Purpose:** Capture the raw, untransformed data for traceability and reproducibility.\n",
    "\n",
    "**Scripts:**\n",
    "- `ingest_source_a.py`\n",
    "- `ingest_source_b.py`\n",
    "- `ingest_source_c.py`\n"
   ]
  }
 ],
 "metadata": {
  "application/vnd.databricks.v1+notebook": {
   "computePreferences": null,
   "dashboards": [],
   "environmentMetadata": {
    "base_environment": "",
    "environment_version": "2"
   },
   "inputWidgetPreferences": null,
   "language": "python",
   "notebookMetadata": {
    "pythonIndentUnit": 4
   },
   "notebookName": "README.md",
   "widgets": {}
  },
  "language_info": {
   "name": "python"
  }
 },
 "nbformat": 4,
 "nbformat_minor": 0
}
