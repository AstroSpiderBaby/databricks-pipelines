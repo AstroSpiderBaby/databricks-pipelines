{
 "cells": [
  {
   "cell_type": "code",
   "execution_count": 0,
   "metadata": {
    "application/vnd.databricks.v1+cell": {
     "cellMetadata": {
      "byteLimit": 2048000,
      "rowLimit": 10000
     },
     "inputWidgets": {},
     "nuid": "6ab6a49c-2fd6-4292-bec0-5a6a75ad945d",
     "showTitle": false,
     "tableResultSettingsMap": {},
     "title": ""
    }
   },
   "outputs": [],
   "source": [
    "\n",
    "from pyspark.sql.functions import input_file_name\n",
    "from pyspark.sql.functions import lit\n",
    "\n",
    "# Step 1: Load the JSON file\n",
    "path = \"dbfs:/mnt/external-ingest/web_form_submissions.json\"\n",
    "\n",
    "df_web = spark.read.option(\"multiline\", \"true\").json(path)\n",
    "\n",
    "# Step 2: Add source metadata (optional tag)\n",
    "df_web = df_web.withColumn(\"source_file\", lit(\"web_form_submissions.json\"))\n",
    "\n",
    "df_web.printSchema()\n",
    "df_web.show(truncate=False)"
   ]
  }
 ],
 "metadata": {
  "application/vnd.databricks.v1+notebook": {
   "computePreferences": null,
   "dashboards": [],
   "environmentMetadata": {
    "base_environment": "",
    "environment_version": "2"
   },
   "inputWidgetPreferences": null,
   "language": "python",
   "notebookMetadata": {
    "pythonIndentUnit": 4
   },
   "notebookName": "mock_web_forms.py",
   "widgets": {}
  },
  "language_info": {
   "name": "python"
  }
 },
 "nbformat": 4,
 "nbformat_minor": 0
}
