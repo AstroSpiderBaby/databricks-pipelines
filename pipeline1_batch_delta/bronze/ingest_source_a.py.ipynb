{
 "cells": [
  {
   "cell_type": "code",
   "execution_count": 0,
   "metadata": {
    "application/vnd.databricks.v1+cell": {
     "cellMetadata": {
      "byteLimit": 2048000,
      "rowLimit": 10000
     },
     "inputWidgets": {},
     "nuid": "e833f390-6c32-4e05-94c7-86d8843dd210",
     "showTitle": false,
     "tableResultSettingsMap": {},
     "title": ""
    }
   },
   "outputs": [],
   "source": [
    "# Optional: import utils if you prefer using your helper function\n",
    "# %run ../common/utils\n",
    "\n",
    "from pyspark.sql import SparkSession\n",
    "from pyspark.sql.functions import when  # <-- required for the .withColumn logic\n",
    "\n",
    "spark = SparkSession.builder.getOrCreate()\n",
    "\n",
    "spark = SparkSession.builder.getOrCreate()\n",
    "\n",
    "inventory_path = \"dbfs:/FileStore/pipeline1_batch_delta/moc_source_a/Inventory.csv\"\n",
    "\n",
    "# Read the CSV\n",
    "df_inventory = (\n",
    "    spark.read\n",
    "    .option(\"header\", \"true\")\n",
    "    .option(\"inferSchema\", \"true\")\n",
    "    .csv(inventory_path)\n",
    ")\n",
    "\n",
    "\n",
    "# Write to Bronze layer\n",
    "df_inventory.write \\\n",
    "    .format(\"delta\") \\\n",
    "    .mode(\"overwrite\") \\\n",
    "    .option(\"mergeSchema\", \"true\") \\\n",
    "    .save(\"/mnt/delta/bronze/inventory\")"
   ]
  }
 ],
 "metadata": {
  "application/vnd.databricks.v1+notebook": {
   "computePreferences": null,
   "dashboards": [],
   "environmentMetadata": {
    "base_environment": "",
    "environment_version": "2"
   },
   "inputWidgetPreferences": null,
   "language": "python",
   "notebookMetadata": {
    "pythonIndentUnit": 4
   },
   "notebookName": "ingest_source_a.py",
   "widgets": {}
  },
  "language_info": {
   "name": "python"
  }
 },
 "nbformat": 4,
 "nbformat_minor": 0
}
