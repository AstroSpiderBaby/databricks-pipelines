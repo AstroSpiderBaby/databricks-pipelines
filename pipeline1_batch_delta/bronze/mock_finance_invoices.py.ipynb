{
 "cells": [
  {
   "cell_type": "code",
   "execution_count": 0,
   "metadata": {
    "application/vnd.databricks.v1+cell": {
     "cellMetadata": {
      "byteLimit": 2048000,
      "rowLimit": 10000
     },
     "inputWidgets": {},
     "nuid": "e3bee4a5-12bb-4f11-a316-17ce4b9559d3",
     "showTitle": false,
     "tableResultSettingsMap": {},
     "title": ""
    }
   },
   "outputs": [],
   "source": [
    "\"\"\"\n",
    "mock_finance_invoices.py\n",
    "\n",
    "Loads mock finance invoice data from a raw CSV file and writes it to the Bronze Delta Lake layer.\n",
    "\n",
    "- Reads data from: `/mnt/raw-ingest/finance_invoice_data.csv`\n",
    "- Adds metadata columns: `source_file`, `ingestion_type`\n",
    "- Writes Delta table to: `/mnt/delta/bronze/finance_invoices`\n",
    "\n",
    "Uses:\n",
    "- `input_file_name()` to track original file path\n",
    "- `lit(\"finance_invoices\")` to label ingestion source\n",
    "\n",
    "Example:\n",
    "    %run /Repos/username@databricks.com/databricks-pipelines/.../write_utils\n",
    "\"\"\"\n"
   ]
  },
  {
   "cell_type": "code",
   "execution_count": 0,
   "metadata": {
    "application/vnd.databricks.v1+cell": {
     "cellMetadata": {
      "byteLimit": 2048000,
      "rowLimit": 10000
     },
     "inputWidgets": {},
     "nuid": "8a3ef225-bf1d-4cef-93d4-3c90f29544b6",
     "showTitle": false,
     "tableResultSettingsMap": {},
     "title": ""
    }
   },
   "outputs": [],
   "source": [
    "%run /Repos/brucejenks@live.com/databricks-pipelines/pipeline1_batch_delta/utils/write_utils"
   ]
  },
  {
   "cell_type": "code",
   "execution_count": 0,
   "metadata": {
    "application/vnd.databricks.v1+cell": {
     "cellMetadata": {
      "byteLimit": 2048000,
      "rowLimit": 10000
     },
     "inputWidgets": {},
     "nuid": "ed20ff90-759f-429a-b067-d3e676689863",
     "showTitle": false,
     "tableResultSettingsMap": {},
     "title": ""
    }
   },
   "outputs": [],
   "source": [
    "\n",
    "from pyspark.sql.functions import input_file_name, lit\n",
    "\n",
    "path = \"/mnt/raw-ingest/finance_invoice_data.csv\"\n",
    "\n",
    "df_finance = (\n",
    "    spark.read\n",
    "        .option(\"header\", \"true\")\n",
    "        .option(\"inferSchema\", \"true\")\n",
    "        .csv(path)\n",
    "        .withColumn(\"source_file\", input_file_name())\n",
    "        .withColumn(\"ingestion_type\", lit(\"finance_invoices\"))\n",
    ")\n",
    "\n",
    "write_df_to_delta(df_finance, \"/mnt/delta/bronze/finance_invoices\")\n"
   ]
  },
  {
   "cell_type": "code",
   "execution_count": 0,
   "metadata": {
    "application/vnd.databricks.v1+cell": {
     "cellMetadata": {
      "byteLimit": 2048000,
      "rowLimit": 10000
     },
     "inputWidgets": {},
     "nuid": "c73821d0-8553-486b-8967-6660e185dc3e",
     "showTitle": false,
     "tableResultSettingsMap": {},
     "title": ""
    }
   },
   "outputs": [],
   "source": [
    "# # Step 1: Read from your bronze Delta table\n",
    "# df_finance = spark.read.format(\"delta\").load(\"/mnt/delta/bronze/finance_invoices\")\n",
    "\n",
    "# # Step 2: Create a small DataFrame to act as the right side of the join\n",
    "# from pyspark.sql import Row\n",
    "\n",
    "# small_reference_data = spark.createDataFrame([\n",
    "#     Row(vendor_id=\"V001\", vendor_name=\"Vendor A\"),\n",
    "#     Row(vendor_id=\"V002\", vendor_name=\"Vendor B\"),\n",
    "#     Row(vendor_id=\"V003\", vendor_name=\"Vendor C\")\n",
    "# ])\n",
    "\n",
    "# # Step 3: Join on a likely common key (adjust if needed based on your schema)\n",
    "# # Replace \"vendor_id\" with the actual join key in your df_finance if different\n",
    "# df_joined = df_finance.join(small_reference_data, on=\"vendor_id\", how=\"inner\")\n",
    "\n",
    "# # Step 4: Trigger an action to invoke execution (and AQE)\n",
    "# df_joined.count()"
   ]
  },
  {
   "cell_type": "markdown",
   "metadata": {
    "application/vnd.databricks.v1+cell": {
     "cellMetadata": {
      "byteLimit": 2048000,
      "rowLimit": 10000
     },
     "inputWidgets": {},
     "nuid": "15bd8625-255b-4720-8331-9909e7fa2ca6",
     "showTitle": false,
     "tableResultSettingsMap": {},
     "title": ""
    }
   },
   "source": []
  }
 ],
 "metadata": {
  "application/vnd.databricks.v1+notebook": {
   "computePreferences": null,
   "dashboards": [],
   "environmentMetadata": {
    "base_environment": "",
    "environment_version": "2"
   },
   "inputWidgetPreferences": null,
   "language": "python",
   "notebookMetadata": {
    "pythonIndentUnit": 4
   },
   "notebookName": "mock_finance_invoices.py",
   "widgets": {}
  },
  "language_info": {
   "name": "python"
  }
 },
 "nbformat": 4,
 "nbformat_minor": 0
}
