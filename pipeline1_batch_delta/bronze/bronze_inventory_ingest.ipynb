{
 "cells": [
  {
   "cell_type": "code",
   "execution_count": 0,
   "metadata": {
    "application/vnd.databricks.v1+cell": {
     "cellMetadata": {},
     "inputWidgets": {},
     "nuid": "f563a534-fdcb-4fd0-9cb7-fa5ded6b44c6",
     "showTitle": false,
     "tableResultSettingsMap": {},
     "title": ""
    }
   },
   "outputs": [],
   "source": [
    "\"\"\"\n",
    "mock_inventory.py\n",
    "\n",
    "Ingests mock inventory data from a raw CSV file and writes it to the Bronze Delta Lake layer.\n",
    "\n",
    "- Reads data from: `/mnt/raw-ingest/inventory_data.csv`\n",
    "- Adds metadata columns: `source_file`, `ingestion_type`\n",
    "- Writes Delta table to: `/mnt/delta/bronze/inventory`\n",
    "\n",
    "Uses:\n",
    "- `input_file_name()` to retain file lineage\n",
    "- `lit(\"inventory\")` to label ingestion type\n",
    "\n",
    "Example:\n",
    "    %run /Repos/username@databricks.com/databricks-pipelines/.../write_utils\n",
    "\"\"\"\n"
   ]
  },
  {
   "cell_type": "code",
   "execution_count": 0,
   "metadata": {
    "application/vnd.databricks.v1+cell": {
     "cellMetadata": {
      "byteLimit": 2048000,
      "rowLimit": 10000
     },
     "inputWidgets": {},
     "nuid": "f28bb9ef-fa0b-41ed-8c4a-773905632c1e",
     "showTitle": false,
     "tableResultSettingsMap": {},
     "title": ""
    }
   },
   "outputs": [],
   "source": [
    "%run \"/Repos/brucejenks@live.com/databricks-pipelines/pipeline1_batch_delta/utils/utils_write_delta\""
   ]
  },
  {
   "cell_type": "code",
   "execution_count": 0,
   "metadata": {
    "application/vnd.databricks.v1+cell": {
     "cellMetadata": {
      "byteLimit": 2048000,
      "rowLimit": 10000
     },
     "inputWidgets": {},
     "nuid": "e833f390-6c32-4e05-94c7-86d8843dd210",
     "showTitle": false,
     "tableResultSettingsMap": {},
     "title": ""
    }
   },
   "outputs": [],
   "source": [
    "\n",
    "from pyspark.sql import SparkSession\n",
    "\n",
    "spark = SparkSession.builder.getOrCreate()\n",
    "\n",
    "inventory_path = \"dbfs:/FileStore/pipeline1_batch_delta/moc_source_a/Inventory.csv\"\n",
    "\n",
    "df_inventory = (\n",
    "    spark.read\n",
    "    .option(\"header\", \"true\")\n",
    "    .option(\"inferSchema\", \"true\")\n",
    "    .csv(inventory_path)\n",
    ")\n",
    "\n",
    "write_df_to_delta(df_inventory, \"/mnt/delta/bronze/inventory\")\n",
    "\n"
   ]
  }
 ],
 "metadata": {
  "application/vnd.databricks.v1+notebook": {
   "computePreferences": null,
   "dashboards": [],
   "environmentMetadata": {
    "base_environment": "",
    "environment_version": "2"
   },
   "inputWidgetPreferences": null,
   "language": "python",
   "notebookMetadata": {
    "mostRecentlyExecutedCommandWithImplicitDF": {
     "commandId": 4935769958128951,
     "dataframes": [
      "_sqldf"
     ]
    },
    "pythonIndentUnit": 4
   },
   "notebookName": "bronze_inventory_ingest",
   "widgets": {}
  },
  "language_info": {
   "name": "python"
  }
 },
 "nbformat": 4,
 "nbformat_minor": 0
}
