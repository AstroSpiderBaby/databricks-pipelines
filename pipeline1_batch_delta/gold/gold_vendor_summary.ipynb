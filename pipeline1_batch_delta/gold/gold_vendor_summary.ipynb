{
 "cells": [
  {
   "cell_type": "code",
   "execution_count": 0,
   "metadata": {
    "application/vnd.databricks.v1+cell": {
     "cellMetadata": {
      "byteLimit": 2048000,
      "rowLimit": 10000
     },
     "inputWidgets": {},
     "nuid": "4f34a77a-32c0-4a39-a8e2-25cf91ab8dc1",
     "showTitle": false,
     "tableResultSettingsMap": {},
     "title": ""
    }
   },
   "outputs": [],
   "source": [
    "\"\"\"\n",
    "gold_summary.py\n",
    "\n",
    "Aggregates cleaned Silver layer data to generate a vendor-level summary for reporting.\n",
    "\n",
    "- Counts total inventory items and shipments per vendor\n",
    "- Tracks last shipment date\n",
    "- Outputs to: /mnt/delta/gold/vendor_summary_clean\n",
    "\n",
    "Table registered as: vendor_summary_clean\n",
    "\"\"\""
   ]
  },
  {
   "cell_type": "code",
   "execution_count": 0,
   "metadata": {
    "application/vnd.databricks.v1+cell": {
     "cellMetadata": {
      "byteLimit": 2048000,
      "rowLimit": 10000
     },
     "inputWidgets": {},
     "nuid": "e180cf68-8f20-4bdf-ba85-16c59e85b772",
     "showTitle": false,
     "tableResultSettingsMap": {},
     "title": ""
    }
   },
   "outputs": [],
   "source": [
    "%run \"/Repos/brucejenks@live.com/databricks-pipelines/pipeline1_batch_delta/utils/utils_write_delta\"\n"
   ]
  },
  {
   "cell_type": "code",
   "execution_count": 0,
   "metadata": {
    "application/vnd.databricks.v1+cell": {
     "cellMetadata": {
      "byteLimit": 2048000,
      "rowLimit": 10000
     },
     "inputWidgets": {},
     "nuid": "9d2613ce-db6d-4e7b-98f5-73fecb5e7c59",
     "showTitle": false,
     "tableResultSettingsMap": {},
     "title": ""
    }
   },
   "outputs": [],
   "source": [
    "# Gold: Final Vendor Summary Writer\n",
    "\n",
    "from pyspark.sql import SparkSession\n",
    "from pyspark.sql.functions import col, max, countDistinct, current_timestamp\n",
    "\n",
    "spark = SparkSession.builder.getOrCreate()\n",
    "\n",
    "# Load Silver sources\n",
    "df_finance = spark.read.format(\"delta\").load(\"/mnt/delta/silver/final_vendor_summary_prep\")\n",
    "df_registry = spark.read.format(\"delta\").load(\"/mnt/delta/silver/vendor_registry_clean\").alias(\"registry\")\n",
    "df_compliance = spark.read.format(\"delta\").load(\"/mnt/delta/silver/vendor_compliance_clean\").alias(\"compliance\")\n",
    "\n",
    "# Aggregate and join\n",
    "df_gold = (\n",
    "    df_finance\n",
    "    .join(df_registry, on=\"vendor_id\", how=\"left\")\n",
    "    .join(df_compliance, on=\"vendor_id\", how=\"left\")\n",
    "    .groupBy(\"vendor_id\", \"vendor_name\")\n",
    "    .agg(\n",
    "        countDistinct(\"invoice_id\").alias(\"total_invoices\"),\n",
    "        max(\"due_date\").alias(\"latest_due_date\"),\n",
    "        max(\"invoice_date\").alias(\"latest_invoice_date\"),\n",
    "        max(col(\"compliance.last_audit_date\")).alias(\"last_audit_date\"),\n",
    "        max(col(\"compliance.compliance_score\")).alias(\"compliance_score\"),\n",
    "        max(col(\"compliance.status\")).alias(\"compliance_status\"),\n",
    "        max(col(\"registry.industry\")).alias(\"industry\"),\n",
    "        max(col(\"registry.headquarters\")).alias(\"headquarters\"),\n",
    "        max(col(\"registry.onwatchlist\")).alias(\"onwatchlist\"),\n",
    "        max(col(\"registry.registrationdate\")).alias(\"registration_date\"),\n",
    "        max(col(\"registry.tier\")).alias(\"tier\")\n",
    "    )\n",
    ")\n",
    "\n",
    "# Add run timestamp\n",
    "df_gold = df_gold.withColumn(\"pipeline_run_timestamp\", current_timestamp())\n",
    "\n",
    "# Set output path\n",
    "target_path = \"/mnt/delta/gold/final_vendor_summary\"\n",
    "\n",
    "# Save and register Gold table, partitioned by 'tier'\n",
    "write_df_to_delta(\n",
    "    df=df_gold,\n",
    "    path=target_path,\n",
    "    mode=\"overwrite\",\n",
    "    register_table=True,\n",
    "    merge_schema=True,\n",
    "    partition_by=[\"tier\"],\n",
    "    verbose=True\n",
    ")\n",
    "\n",
    "# ---- Summary Statistics (Print) ----\n",
    "print(\"📊 Gold Table Summary Stats:\")\n",
    "df_gold.selectExpr(\n",
    "    \"count(*) as total_records\",\n",
    "    \"count(distinct vendor_id) as distinct_vendors\",\n",
    "    \"min(registration_date) as earliest_registration\",\n",
    "    \"max(registration_date) as latest_registration\"\n",
    ").show(truncate=False)\n",
    "\n",
    "# ---- Track Run History ----\n",
    "df_log = df_gold.select(\n",
    "    current_timestamp().alias(\"run_time\"),\n",
    "    countDistinct(\"vendor_id\").alias(\"vendor_count\"),\n",
    "    countDistinct(\"vendor_name\").alias(\"vendor_name_count\")\n",
    ")\n",
    "\n",
    "log_path = \"/mnt/delta/logs/final_vendor_summary_runs\"\n",
    "\n",
    "write_df_to_delta(\n",
    "    df=df_log,\n",
    "    path=log_path,\n",
    "    mode=\"append\",\n",
    "    register_table=True,\n",
    "    merge_schema=True,\n",
    "    partition_by=None,\n",
    "    verbose=True\n",
    ")\n"
   ]
  },
  {
   "cell_type": "code",
   "execution_count": 0,
   "metadata": {
    "application/vnd.databricks.v1+cell": {
     "cellMetadata": {
      "byteLimit": 2048000,
      "rowLimit": 10000
     },
     "inputWidgets": {},
     "nuid": "29b5a4a7-110c-4dc9-83eb-2c524f624aba",
     "showTitle": false,
     "tableResultSettingsMap": {
      "0": {
       "dataGridStateBlob": "{\"version\":1,\"tableState\":{\"columnPinning\":{\"left\":[\"#row_number#\"],\"right\":[]},\"columnSizing\":{},\"columnVisibility\":{}},\"settings\":{\"columns\":{}},\"syncTimestamp\":1752101325390}",
       "filterBlob": null,
       "queryPlanFiltersBlob": null,
       "tableResultIndex": 0
      }
     },
     "title": ""
    }
   },
   "outputs": [],
   "source": [
    "display(df_log)"
   ]
  }
 ],
 "metadata": {
  "application/vnd.databricks.v1+notebook": {
   "computePreferences": null,
   "dashboards": [],
   "environmentMetadata": {
    "base_environment": "",
    "environment_version": "2"
   },
   "inputWidgetPreferences": null,
   "language": "python",
   "notebookMetadata": {
    "mostRecentlyExecutedCommandWithImplicitDF": {
     "commandId": 4935769958128962,
     "dataframes": [
      "_sqldf"
     ]
    },
    "pythonIndentUnit": 4
   },
   "notebookName": "gold_vendor_summary",
   "widgets": {}
  },
  "language_info": {
   "name": "python"
  }
 },
 "nbformat": 4,
 "nbformat_minor": 0
}
