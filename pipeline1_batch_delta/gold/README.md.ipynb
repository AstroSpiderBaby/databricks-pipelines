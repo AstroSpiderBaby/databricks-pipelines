{
 "cells": [
  {
   "cell_type": "code",
   "execution_count": 0,
   "metadata": {
    "application/vnd.databricks.v1+cell": {
     "cellMetadata": {},
     "inputWidgets": {},
     "nuid": "12612971-c96e-4384-b65c-9fc11ae2aa1d",
     "showTitle": false,
     "tableResultSettingsMap": {},
     "title": ""
    }
   },
   "outputs": [],
   "source": [
    "# 🥇 Gold Layer\n",
    "\n",
    "This folder contains **business-level aggregations** and **curated data models** used directly for reporting, dashboards, and analytics.\n",
    "\n",
    "Data in this layer is **denormalized** and **optimized for consumption**, typically by BI tools, external systems, or downstream pipelines.\n",
    "\n",
    "## 📍 Storage Location\n",
    "`/mnt/delta/gold/`\n",
    "\n",
    "---\n",
    "\n",
    "## 🎯 Purpose\n",
    "\n",
    "To deliver **summarized, business-ready views** of vendor activity and performance, combining cleansed Silver-layer data with derived metrics and metadata.\n",
    "\n",
    "Includes:\n",
    "- Compliance results\n",
    "- Invoice trends\n",
    "- Vendor registry information\n",
    "- Tier and registration metadata (from ADF)\n",
    "- Automated run tracking (`ingestion_timestamp`)\n",
    "\n",
    "---\n",
    "\n",
    "## 🧾 Script(s)\n",
    "\n",
    "- `gold_write_vendor_summary.py`\n",
    "  - Joins cleaned Silver data from:\n",
    "    - `final_vendor_summary_prep`\n",
    "    - `vendor_compliance_clean`\n",
    "    - `vendor_registry_clean` (from ADF)\n",
    "  - Aggregates and outputs:\n",
    "    - ✅ Total invoices per vendor\n",
    "    - 📅 Latest invoice & due dates\n",
    "    - 🛡️ Latest audit results and compliance status\n",
    "    - 🏢 Headquarters, industry, and tier\n",
    "    - 📌 `registration_date` and `ingestion_timestamp`\n",
    "  - Writes partitioned Delta table:  \n",
    "    ➤ `/mnt/delta/gold/vendor_summary_enriched`\n",
    "\n",
    "---\n",
    "\n",
    "## 🧮 Output Table\n",
    "\n",
    "| Column                 | Description                                  |\n",
    "|------------------------|----------------------------------------------|\n",
    "| `vendor_id`            | Unique vendor identifier                     |\n",
    "| `vendor_name`          | Clean, human-readable name                   |\n",
    "| `total_invoices`       | Distinct invoice count                       |\n",
    "| `latest_due_date`      | Most recent due date                         |\n",
    "| `latest_invoice_date`  | Most recent invoice date                     |\n",
    "| `last_audit_date`      | Most recent compliance audit                 |\n",
    "| `compliance_score`     | Latest score (0–100 scale)                   |\n",
    "| `compliance_status`    | Category: Compliant, At Risk, Suspended      |\n",
    "| `industry`             | Vendor industry from registry                |\n",
    "| `headquarters`         | City from ADF registry                       |\n",
    "| `onwatchlist`          | Boolean flag from registry                   |\n",
    "| `registration_date`    | Original vendor registration date            |\n",
    "| `tier`                 | Derived vendor tier                          |\n",
    "| `ingestion_timestamp`  | Pipeline execution timestamp                 |\n",
    "\n",
    "---\n",
    "\n",
    "🔙 [Back to Root README](../../README.md)\n"
   ]
  }
 ],
 "metadata": {
  "application/vnd.databricks.v1+notebook": {
   "computePreferences": null,
   "dashboards": [],
   "environmentMetadata": {
    "base_environment": "",
    "environment_version": "2"
   },
   "inputWidgetPreferences": null,
   "language": "python",
   "notebookMetadata": {
    "pythonIndentUnit": 4
   },
   "notebookName": "README.md",
   "widgets": {}
  },
  "language_info": {
   "name": "python"
  }
 },
 "nbformat": 4,
 "nbformat_minor": 0
}
