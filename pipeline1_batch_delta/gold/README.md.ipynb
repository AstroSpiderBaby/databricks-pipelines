{
 "cells": [
  {
   "cell_type": "markdown",
   "metadata": {
    "application/vnd.databricks.v1+cell": {
     "cellMetadata": {},
     "inputWidgets": {},
     "nuid": "12612971-c96e-4384-b65c-9fc11ae2aa1d",
     "showTitle": false,
     "tableResultSettingsMap": {},
     "title": ""
    }
   },
   "source": [
    "# 🥇 Gold Layer\n",
    "\n",
    "This folder contains **business-level aggregations** and curated data models used directly for reporting and analysis.\n",
    "\n",
    "Data in this layer is **denormalized** and **optimized for consumption**, typically by BI tools, dashboards, or external systems.\n",
    "\n",
    "📍 **Storage Location:** `/mnt/delta/gold/`\n",
    "\n",
    "---\n",
    "\n",
    "## 🎯 Purpose\n",
    "\n",
    "Provide **summarized, business-ready views** of the data with meaningful metrics, such as totals, compliance scores, and recent activity.\n",
    "\n",
    "---\n",
    "\n",
    "## 📜 Script(s)\n",
    "\n",
    "- `gold_summary.py`  \n",
    "  ➤ Aggregates vendor-level metrics including:\n",
    "  - Total invoices per vendor  \n",
    "  - Latest invoice and due dates  \n",
    "  - Latest audit results and compliance status  \n",
    "  - Joins cleaned Silver prep and compliance data\n",
    "\n",
    "---\n",
    "\n",
    "🔙 [Back to Root README](../../README.md)\n"
   ]
  }
 ],
 "metadata": {
  "application/vnd.databricks.v1+notebook": {
   "computePreferences": null,
   "dashboards": [],
   "environmentMetadata": {
    "base_environment": "",
    "environment_version": "2"
   },
   "inputWidgetPreferences": null,
   "language": "python",
   "notebookMetadata": {
    "pythonIndentUnit": 4
   },
   "notebookName": "README.md",
   "widgets": {}
  },
  "language_info": {
   "name": "python"
  }
 },
 "nbformat": 4,
 "nbformat_minor": 0
}
