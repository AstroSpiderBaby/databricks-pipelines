{
 "cells": [
  {
   "cell_type": "code",
   "execution_count": 0,
   "metadata": {
    "application/vnd.databricks.v1+cell": {
     "cellMetadata": {},
     "inputWidgets": {},
     "nuid": "12612971-c96e-4384-b65c-9fc11ae2aa1d",
     "showTitle": false,
     "tableResultSettingsMap": {},
     "title": ""
    }
   },
   "outputs": [],
   "source": [
    "# Gold Layer\n",
    "\n",
    "This folder contains business-level aggregations and curated data models used directly for reporting or analysis.\n",
    "\n",
    "Data here is denormalized and optimized for consumption, typically by BI tools or external systems. Gold tables are saved to `/mnt/delta/gold/`.\n",
    "\n",
    "**Purpose:** Provide summarized and business-ready views of the data.\n",
    "\n",
    "**Scripts:**\n",
    "- `gold_summary.py` – creates vendor-level summary metrics such as shipment counts and latest shipment dates.\n"
   ]
  }
 ],
 "metadata": {
  "application/vnd.databricks.v1+notebook": {
   "computePreferences": null,
   "dashboards": [],
   "environmentMetadata": {
    "base_environment": "",
    "environment_version": "2"
   },
   "inputWidgetPreferences": null,
   "language": "python",
   "notebookMetadata": {
    "pythonIndentUnit": 4
   },
   "notebookName": "README.md",
   "widgets": {}
  },
  "language_info": {
   "name": "python"
  }
 },
 "nbformat": 4,
 "nbformat_minor": 0
}
