{
 "cells": [
  {
   "cell_type": "code",
   "execution_count": 0,
   "metadata": {
    "application/vnd.databricks.v1+cell": {
     "cellMetadata": {},
     "inputWidgets": {},
     "nuid": "4f34a77a-32c0-4a39-a8e2-25cf91ab8dc1",
     "showTitle": false,
     "tableResultSettingsMap": {},
     "title": ""
    }
   },
   "outputs": [],
   "source": [
    "\"\"\"\n",
    "gold_summary.py\n",
    "\n",
    "Aggregates cleaned Silver layer data to generate a vendor-level summary for reporting.\n",
    "\n",
    "- Counts total inventory items and shipments per vendor\n",
    "- Tracks last shipment date\n",
    "- Outputs to: /mnt/delta/gold/vendor_summary_clean\n",
    "\n",
    "Table registered as: vendor_summary_clean\n",
    "\"\"\""
   ]
  },
  {
   "cell_type": "code",
   "execution_count": 0,
   "metadata": {
    "application/vnd.databricks.v1+cell": {
     "cellMetadata": {
      "byteLimit": 2048000,
      "rowLimit": 10000
     },
     "inputWidgets": {},
     "nuid": "9d2613ce-db6d-4e7b-98f5-73fecb5e7c59",
     "showTitle": false,
     "tableResultSettingsMap": {},
     "title": ""
    }
   },
   "outputs": [],
   "source": [
    "from pyspark.sql.functions import col, max, countDistinct\n",
    "\n",
    "# Load cleaned Silver\n",
    "df_prep = spark.read.format(\"delta\").load(\"/mnt/delta/silver/final_vendor_summary_prep\")\n",
    "\n",
    "# Load compliance and alias it to resolve ambiguity\n",
    "df_compliance = spark.read.format(\"delta\").load(\"/mnt/delta/silver/vendor_compliance_clean\").alias(\"compliance\")\n",
    "\n",
    "# Join and aggregate\n",
    "df_gold = df_prep.join(df_compliance, on=\"vendor_id\", how=\"left\") \\\n",
    "    .groupBy(\"vendor_id\", \"vendor_name\") \\\n",
    "    .agg(\n",
    "        countDistinct(\"invoice_id\").alias(\"total_invoices\"),\n",
    "        max(\"due_date\").alias(\"latest_due_date\"),\n",
    "        max(\"invoice_date\").alias(\"latest_invoice_date\"),\n",
    "        max(col(\"compliance.last_audit_date\")).alias(\"last_audit_date\"),\n",
    "        max(col(\"compliance.compliance_score\")).alias(\"compliance_score\"),\n",
    "        max(col(\"compliance.status\")).alias(\"compliance_status\")\n",
    "    )\n",
    "\n",
    "# Write Gold\n",
    "df_gold.write.format(\"delta\") \\\n",
    "    .mode(\"overwrite\") \\\n",
    "    .option(\"mergeSchema\", \"true\") \\\n",
    "    .save(\"/mnt/delta/gold/vendor_summary_clean\")\n",
    "\n",
    "display(df_gold)"
   ]
  }
 ],
 "metadata": {
  "application/vnd.databricks.v1+notebook": {
   "computePreferences": null,
   "dashboards": [],
   "environmentMetadata": {
    "base_environment": "",
    "environment_version": "2"
   },
   "inputWidgetPreferences": null,
   "language": "python",
   "notebookMetadata": {
    "mostRecentlyExecutedCommandWithImplicitDF": {
     "commandId": 4935769958128962,
     "dataframes": [
      "_sqldf"
     ]
    },
    "pythonIndentUnit": 4
   },
   "notebookName": "gold_summary.py",
   "widgets": {}
  },
  "language_info": {
   "name": "python"
  }
 },
 "nbformat": 4,
 "nbformat_minor": 0
}
