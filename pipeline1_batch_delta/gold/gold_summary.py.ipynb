{
 "cells": [
  {
   "cell_type": "code",
   "execution_count": 0,
   "metadata": {
    "application/vnd.databricks.v1+cell": {
     "cellMetadata": {
      "byteLimit": 2048000,
      "rowLimit": 10000
     },
     "inputWidgets": {},
     "nuid": "9d2613ce-db6d-4e7b-98f5-73fecb5e7c59",
     "showTitle": false,
     "tableResultSettingsMap": {},
     "title": ""
    }
   },
   "outputs": [],
   "source": [
    "from pyspark.sql import SparkSession\n",
    "from pyspark.sql.functions import count, max\n",
    "\n",
    "spark = SparkSession.builder.getOrCreate()\n",
    "\n",
    "# ---------------------------------------------------\n",
    "# 1. Load Cleaned Silver Table\n",
    "# ---------------------------------------------------\n",
    "df_silver = spark.read.format(\"delta\").load(\"/mnt/delta/silver/inventory_shipments_joined_clean\")\n",
    "\n",
    "# ---------------------------------------------------\n",
    "# 2. Inventory Summary per Vendor\n",
    "# ---------------------------------------------------\n",
    "inventory_summary = df_silver.groupBy(\"vendor_id\", \"vendor_name\").agg(\n",
    "    count(\"item_id\").alias(\"total_inventory_items\")\n",
    ")\n",
    "\n",
    "# ---------------------------------------------------\n",
    "# 3. Shipment Summary per Vendor\n",
    "# ---------------------------------------------------\n",
    "shipment_summary = df_silver.groupBy(\"vendor_id\", \"vendor_name\").agg(\n",
    "    count(\"shipment_id\").alias(\"total_shipments\"),\n",
    "    max(\"shipment_date\").alias(\"last_shipment_date\")\n",
    ")\n",
    "\n",
    "# ---------------------------------------------------\n",
    "# 4. Join Aggregated Results\n",
    "# ---------------------------------------------------\n",
    "vendor_summary = inventory_summary.join(\n",
    "    shipment_summary,\n",
    "    on=[\"vendor_id\", \"vendor_name\"],\n",
    "    how=\"outer\"\n",
    ").fillna(0)\n",
    "\n",
    "# ---------------------------------------------------\n",
    "# 5. Write Gold Output\n",
    "# ---------------------------------------------------\n",
    "vendor_summary.write \\\n",
    "    .format(\"delta\") \\\n",
    "    .mode(\"overwrite\") \\\n",
    "    .option(\"mergeSchema\", \"true\") \\\n",
    "    .save(\"/mnt/delta/gold/vendor_summary_clean\")\n",
    "\n",
    "# Optional: Register table\n",
    "spark.sql(\"DROP TABLE IF EXISTS vendor_summary_clean\")\n",
    "spark.sql(\"\"\"\n",
    "    CREATE TABLE vendor_summary_clean\n",
    "    USING DELTA\n",
    "    LOCATION '/mnt/delta/gold/vendor_summary_clean'\n",
    "\"\"\")"
   ]
  },
  {
   "cell_type": "code",
   "execution_count": 0,
   "metadata": {
    "application/vnd.databricks.v1+cell": {
     "cellMetadata": {
      "byteLimit": 2048000,
      "rowLimit": 10000
     },
     "inputWidgets": {},
     "nuid": "72ebd63e-5efb-4a84-92a6-509c6661f8e9",
     "showTitle": false,
     "tableResultSettingsMap": {},
     "title": ""
    }
   },
   "outputs": [],
   "source": [
    "gold_df = spark.read.format(\"delta\").load(\"/mnt/delta/gold/vendor_summary_clean\")\n",
    "gold_df.show(truncate=False)\n",
    "\n",
    "print(f\"Total records in Gold layer: {gold_df.count()}\")"
   ]
  },
  {
   "cell_type": "code",
   "execution_count": 0,
   "metadata": {
    "application/vnd.databricks.v1+cell": {
     "cellMetadata": {
      "byteLimit": 2048000,
      "implicitDf": true,
      "rowLimit": 10000
     },
     "inputWidgets": {},
     "nuid": "c26548e9-42e1-447b-9ff7-6c0bc1eb6eb4",
     "showTitle": false,
     "tableResultSettingsMap": {},
     "title": ""
    }
   },
   "outputs": [],
   "source": [
    "%sql\n",
    "SELECT * FROM vendor_summary_clean ORDER BY vendor_id"
   ]
  }
 ],
 "metadata": {
  "application/vnd.databricks.v1+notebook": {
   "computePreferences": null,
   "dashboards": [],
   "environmentMetadata": {
    "base_environment": "",
    "environment_version": "2"
   },
   "inputWidgetPreferences": null,
   "language": "python",
   "notebookMetadata": {
    "mostRecentlyExecutedCommandWithImplicitDF": {
     "commandId": 7756316553050170,
     "dataframes": [
      "_sqldf"
     ]
    },
    "pythonIndentUnit": 4
   },
   "notebookName": "gold_summary.py",
   "widgets": {}
  },
  "language_info": {
   "name": "python"
  }
 },
 "nbformat": 4,
 "nbformat_minor": 0
}
