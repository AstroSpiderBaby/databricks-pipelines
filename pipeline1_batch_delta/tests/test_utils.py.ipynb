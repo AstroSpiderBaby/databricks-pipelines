{
 "cells": [
  {
   "cell_type": "code",
   "execution_count": 0,
   "metadata": {
    "application/vnd.databricks.v1+cell": {
     "cellMetadata": {},
     "inputWidgets": {},
     "nuid": "137cf552-0593-40ef-b382-22c93b043db9",
     "showTitle": false,
     "tableResultSettingsMap": {},
     "title": ""
    }
   },
   "outputs": [],
   "source": [
    "def test_write_to_delta(tmp_path, spark):\n",
    "    from utils.write_to_delta import write_to_delta\n",
    "    df = spark.createDataFrame([(\"foo\", 1)], [\"name\", \"value\"])\n",
    "    path = str(tmp_path / \"test_output\")\n",
    "\n",
    "    write_to_delta(df, path, mode=\"overwrite\")\n",
    "\n",
    "    written_df = spark.read.format(\"delta\").load(path)\n",
    "    assert written_df.count() == 1\n"
   ]
  }
 ],
 "metadata": {
  "application/vnd.databricks.v1+notebook": {
   "computePreferences": null,
   "dashboards": [],
   "environmentMetadata": {
    "base_environment": "",
    "environment_version": "2"
   },
   "inputWidgetPreferences": null,
   "language": "python",
   "notebookMetadata": {
    "pythonIndentUnit": 4
   },
   "notebookName": "test_utils.py",
   "widgets": {}
  },
  "language_info": {
   "name": "python"
  }
 },
 "nbformat": 4,
 "nbformat_minor": 0
}
