{
 "cells": [
  {
   "cell_type": "code",
   "execution_count": 0,
   "metadata": {
    "application/vnd.databricks.v1+cell": {
     "cellMetadata": {},
     "inputWidgets": {},
     "nuid": "09d9049d-b304-46f6-84c5-321fd0b958c9",
     "showTitle": false,
     "tableResultSettingsMap": {},
     "title": ""
    }
   },
   "outputs": [],
   "source": [
    "def test_read_sql_table_mocked(monkeypatch, spark):\n",
    "    from utils import sql_connector\n",
    "\n",
    "    monkeypatch.setattr(sql_connector, \"jdbc_url\", \"fake_url\")\n",
    "    monkeypatch.setattr(sql_connector, \"sql_user\", \"user\")\n",
    "    monkeypatch.setattr(sql_connector, \"sql_password\", \"pass\")\n",
    "\n",
    "    # Instead of actually reading, test function exists and returns type\n",
    "    assert hasattr(sql_connector, \"read_sql_table\")\n"
   ]
  }
 ],
 "metadata": {
  "application/vnd.databricks.v1+notebook": {
   "computePreferences": null,
   "dashboards": [],
   "environmentMetadata": {
    "base_environment": "",
    "environment_version": "2"
   },
   "inputWidgetPreferences": null,
   "language": "python",
   "notebookMetadata": {
    "pythonIndentUnit": 4
   },
   "notebookName": "test_sql_connector",
   "widgets": {}
  },
  "language_info": {
   "name": "python"
  }
 },
 "nbformat": 4,
 "nbformat_minor": 0
}
