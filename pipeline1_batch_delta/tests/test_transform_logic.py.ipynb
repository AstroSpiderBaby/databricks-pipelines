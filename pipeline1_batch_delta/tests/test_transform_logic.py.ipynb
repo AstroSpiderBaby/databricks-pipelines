{
 "cells": [
  {
   "cell_type": "code",
   "execution_count": 0,
   "metadata": {
    "application/vnd.databricks.v1+cell": {
     "cellMetadata": {},
     "inputWidgets": {},
     "nuid": "40ff2b1e-96ac-4482-9de5-6f10348738eb",
     "showTitle": false,
     "tableResultSettingsMap": {},
     "title": ""
    }
   },
   "outputs": [],
   "source": [
    "def test_inventory_summary(spark):\n",
    "    from pipeline1_batch_delta.transform.some_module import get_inventory_summary\n",
    "\n",
    "    df = spark.createDataFrame([\n",
    "        (\"v1\", \"Vendor A\", 100),\n",
    "        (\"v2\", \"Vendor B\", 50),\n",
    "    ], [\"vendor_id\", \"name\", \"quantity_on_hand\"])\n",
    "\n",
    "    result = get_inventory_summary(df)\n",
    "    assert \"total_quantity_on_hand\" in result.columns\n"
   ]
  }
 ],
 "metadata": {
  "application/vnd.databricks.v1+notebook": {
   "computePreferences": null,
   "dashboards": [],
   "environmentMetadata": {
    "base_environment": "",
    "environment_version": "2"
   },
   "inputWidgetPreferences": null,
   "language": "python",
   "notebookMetadata": {
    "pythonIndentUnit": 4
   },
   "notebookName": "test_transform_logic.py",
   "widgets": {}
  },
  "language_info": {
   "name": "python"
  }
 },
 "nbformat": 4,
 "nbformat_minor": 0
}
