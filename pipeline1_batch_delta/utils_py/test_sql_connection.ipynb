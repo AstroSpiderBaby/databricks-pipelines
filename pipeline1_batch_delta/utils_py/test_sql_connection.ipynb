{
 "cells": [
  {
   "cell_type": "code",
   "execution_count": 0,
   "metadata": {
    "application/vnd.databricks.v1+cell": {
     "cellMetadata": {
      "byteLimit": 2048000,
      "rowLimit": 10000
     },
     "inputWidgets": {},
     "nuid": "cc421fce-e3a0-40c3-9113-53f28fb76ceb",
     "showTitle": false,
     "tableResultSettingsMap": {},
     "title": ""
    }
   },
   "outputs": [],
   "source": [
    "✅ Databricks Test Notebook: test_sqlserver_ingest\n",
    "\n",
    "# ----------------------------------------\n",
    "# 📦 Import Required Libraries\n",
    "# ----------------------------------------\n",
    "from pyspark.sql import SparkSession\n",
    "from pyspark.sql.functions import lit\n",
    "import builtins\n",
    "\n",
    "# ----------------------------------------\n",
    "# 🔐 Retrieve Secrets (from Key Vault Scope)\n",
    "# ----------------------------------------\n",
    "dbutils = builtins.dbutils if hasattr(builtins, \"dbutils\") else None\n",
    "assert dbutils is not None, \"dbutils not available\"\n",
    "\n",
    "jdbc_url = dbutils.secrets.get(scope=\"databricks-secrets-lv426\", key=\"sql-jdbc-url\")\n",
    "sql_user = dbutils.secrets.get(scope=\"databricks-secrets-lv426\", key=\"sql-user\")\n",
    "sql_password = dbutils.secrets.get(scope=\"databricks-secrets-lv426\", key=\"sql-password\")\n",
    "\n",
    "# ----------------------------------------\n",
    "# ⚙️ JDBC Config\n",
    "# ----------------------------------------\n",
    "connection_properties = {\n",
    "    \"user\": sql_user,\n",
    "    \"password\": sql_password,\n",
    "    \"driver\": \"com.microsoft.sqlserver.jdbc.SQLServerDriver\"\n",
    "}\n",
    "\n",
    "# ----------------------------------------\n",
    "# 🧪 Test Query: Read Sample Table\n",
    "# ----------------------------------------\n",
    "table_name = \"dbo.vendor_compliance\"  # Use schema-qualified name\n",
    "df = spark.read.jdbc(url=jdbc_url, table=table_name, properties=connection_properties)\n",
    "\n",
    "# Add identifier for traceability\n",
    "df = df.withColumn(\"ingestion_type\", lit(\"test_notebook\"))\n",
    "\n",
    "# ----------------------------------------\n",
    "# 💾 Write to Delta (Bronze)\n",
    "# ----------------------------------------\n",
    "output_path = \"/Volumes/thebetty/bronze/vendor_compliance_test\"\n",
    "\n",
    "df.write.format(\"delta\") \\\n",
    "    .mode(\"overwrite\") \\\n",
    "    .option(\"mergeSchema\", \"true\") \\\n",
    "    .save(output_path)\n",
    "\n",
    "# Optional: Display sample\n",
    "display(df)\n"
   ]
  }
 ],
 "metadata": {
  "application/vnd.databricks.v1+notebook": {
   "computePreferences": null,
   "dashboards": [],
   "environmentMetadata": {
    "base_environment": "",
    "environment_version": "3"
   },
   "inputWidgetPreferences": null,
   "language": "python",
   "notebookMetadata": {
    "pythonIndentUnit": 4
   },
   "notebookName": "test_sql_connection",
   "widgets": {}
  },
  "language_info": {
   "name": "python"
  }
 },
 "nbformat": 4,
 "nbformat_minor": 0
}
