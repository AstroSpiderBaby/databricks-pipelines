{
 "cells": [
  {
   "cell_type": "code",
   "execution_count": 0,
   "metadata": {
    "application/vnd.databricks.v1+cell": {
     "cellMetadata": {
      "byteLimit": 2048000,
      "implicitDf": true,
      "rowLimit": 10000
     },
     "inputWidgets": {},
     "nuid": "10ef0d06-c32a-47e6-9ca3-8b8e7a3c9916",
     "showTitle": false,
     "tableResultSettingsMap": {},
     "title": ""
    }
   },
   "outputs": [],
   "source": [
    "%sql\n",
    "-- SILVER\n",
    "DROP TABLE IF EXISTS thebetty.silver.final_vendor_summary_prep;\n",
    "CREATE TABLE thebetty.silver.final_vendor_summary_prep\n",
    "USING DELTA\n",
    "LOCATION '/Volumes/thebetty/silver/final_vendor_summary_prep';\n",
    "\n",
    "DROP TABLE IF EXISTS thebetty.silver.finance_with_vendor_info;\n",
    "CREATE TABLE thebetty.silver.finance_with_vendor_info\n",
    "USING DELTA\n",
    "LOCATION '/Volumes/thebetty/silver/finance_with_vendor_info';\n",
    "\n",
    "DROP TABLE IF EXISTS thebetty.silver.finance_with_vendors_enriched;\n",
    "CREATE TABLE thebetty.silver.finance_with_vendors_enriched\n",
    "USING DELTA\n",
    "LOCATION '/Volumes/thebetty/silver/finance_with_vendors_enriched';\n",
    "\n",
    "DROP TABLE IF EXISTS thebetty.silver.finances_invoices_clean_new;\n",
    "CREATE TABLE thebetty.silver.finances_invoices_clean_new\n",
    "USING DELTA\n",
    "LOCATION '/Volumes/thebetty/silver/finances_invoices_clean_new';\n",
    "\n",
    "DROP TABLE IF EXISTS thebetty.silver.inventory_shipments_joined_clean;\n",
    "CREATE TABLE thebetty.silver.inventory_shipments_joined_clean\n",
    "USING DELTA\n",
    "LOCATION '/Volumes/thebetty/silver/inventory_shipments_joined_clean';\n",
    "\n",
    "DROP TABLE IF EXISTS thebetty.silver.vendor_registry_clean;\n",
    "CREATE TABLE thebetty.silver.vendor_registry_clean\n",
    "USING DELTA\n",
    "LOCATION '/Volumes/thebetty/silver/vendor_registry_clean';\n",
    "\n",
    "DROP TABLE IF EXISTS thebetty.silver.web_forms_clean;\n",
    "CREATE TABLE thebetty.silver.web_forms_clean\n",
    "USING DELTA\n",
    "LOCATION '/Volumes/thebetty/silver/web_forms_clean';\n"
   ]
  }
 ],
 "metadata": {
  "application/vnd.databricks.v1+notebook": {
   "computePreferences": null,
   "dashboards": [],
   "environmentMetadata": {
    "base_environment": "",
    "environment_version": "2"
   },
   "inputWidgetPreferences": null,
   "language": "python",
   "notebookMetadata": {
    "mostRecentlyExecutedCommandWithImplicitDF": {
     "commandId": 8093146872848366,
     "dataframes": [
      "_sqldf"
     ]
    },
    "pythonIndentUnit": 4
   },
   "notebookName": "drop_recreate_testing",
   "widgets": {}
  },
  "language_info": {
   "name": "python"
  }
 },
 "nbformat": 4,
 "nbformat_minor": 0
}
