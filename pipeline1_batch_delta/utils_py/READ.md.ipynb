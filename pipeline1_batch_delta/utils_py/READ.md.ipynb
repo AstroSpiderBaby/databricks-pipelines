{
 "cells": [
  {
   "cell_type": "code",
   "execution_count": 0,
   "metadata": {
    "application/vnd.databricks.v1+cell": {
     "cellMetadata": {},
     "inputWidgets": {},
     "nuid": "233c3172-bd71-4e7b-9d87-094de28aeda9",
     "showTitle": false,
     "tableResultSettingsMap": {},
     "title": ""
    }
   },
   "outputs": [],
   "source": [
    "# 🛠️ Utils – Reusable Modules\n",
    "\n",
    "This folder contains reusable utility scripts supporting Delta writes, SQL ingestion, secret management, and Azure Blob Storage interactions in a **Unity Catalog–ready** Databricks pipeline.\n",
    "\n",
    "Each script is designed to be **importable across Python-based pipelines** and supports volume-aware logic for Unity execution.\n",
    "\n",
    "---\n",
    "\n",
    "## 🧰 Available Modules\n",
    "\n",
    "| Script                                | Purpose                                                                 |\n",
    "|---------------------------------------|-------------------------------------------------------------------------|\n",
    "| `utils_write_delta.py`                | Core write utility with `write_to_delta()` for Delta write logic.      |\n",
    "| `utils_write_silver.py`               | Unity Catalog–compatible write with optional upsert logic.             |\n",
    "| `utils_upsert_with_hashstring.py`     | Enables idempotent updates using hash keys (merge/upsert logic).       |\n",
    "| `utils_sql_connector.py`              | Secure connection to SQL Server via JDBC, secrets stored in Key Vault. |\n",
    "| `utils_mount_lv426_blobstorage.py`    | Mounts Blob Storage from `datalakelv426` using scoped secrets.         |\n",
    "| `utils_copy_to_volume.py`             | Copies data from DBFS to Unity Volumes (`/Volumes/`).                  |\n",
    "| `utils_mirror_adf_to_volume.py`       | Replicates ADF drop zone files into Unity Volumes.                     |\n",
    "| `utils_generate_vendor_summary.py`    | (Optional) Business logic for vendor-level aggregation.                |\n",
    "| `get_mock_files.py`                   | Loads and previews sample test files.                                  |\n",
    "| `test_write_utils.py`                 | Testbed for validating `write_to_delta()` and schema merge logic.      |\n",
    "| `test_sql_connection.py`              | Validates SQL Server connection parameters using scoped secrets.       |\n",
    "\n",
    "---\n",
    "\n",
    "## 🔐 Secret Scopes Required\n",
    "\n",
    "For any SQL access or mount operations, the following must exist in **Azure Key Vault + Secret Scope**:\n",
    "\n",
    "| Secret Key Name     | Purpose                     |\n",
    "|---------------------|-----------------------------|\n",
    "| `sql-jdbc-url`      | JDBC connection string      |\n",
    "| `sql-user`          | SQL login username          |\n",
    "| `sql-password`      | SQL login password          |\n",
    "| `azure-storage-key` | Azure Blob Storage access   |\n",
    "\n",
    "Stored in: `databricks-secrets-lv426`\n",
    "\n",
    "---\n",
    "\n",
    "## 🧪 Sample: Writing to Delta Table\n",
    "\n",
    "```python\n",
    "from utils_py.utils_write_delta import write_to_delta\n",
    "\n",
    "write_to_delta(\n",
    "    df=my_df,\n",
    "    path=\"/Volumes/thebetty/silver/inventory_shipments_clean\",\n",
    "    mode=\"overwrite\",\n",
    "    register_table=True,\n",
    "    merge_schema=True,\n",
    "    partition_by=[\"shipment_date\"],\n",
    "    full_table_name=\"thebetty.silver.inventory_shipments_clean\"\n",
    ")\n",
    "🛠 Example: SQL Server Pull via Ngrok\n",
    "python\n",
    "Copy\n",
    "Edit\n",
    "from utils_py.utils_sql_connector import read_sql_table\n",
    "\n",
    "df_sql = read_sql_table(\"fury161.dbo.vendor_compliance_raw\")\n",
    "display(df_sql)\n",
    "💡 Volume Copy for Unity\n",
    "python\n",
    "Copy\n",
    "Edit\n",
    "from utils_py.utils_copy_to_volume import copy_to_volume\n",
    "\n",
    "copy_to_volume(\n",
    "    source_path=\"/mnt/raw-ingest/inventory.csv\",\n",
    "    dest_volume=\"/Volumes/thebetty/bronze/landing_zone/inventory.csv\"\n",
    ")\n",
    "📍All modules are Unity-ready, and designed to support CI/CD, partitioned writing, and secure credential handling.\n",
    "\n",
    "🔙 Back to Root README"
   ]
  }
 ],
 "metadata": {
  "application/vnd.databricks.v1+notebook": {
   "computePreferences": null,
   "dashboards": [],
   "environmentMetadata": {
    "base_environment": "",
    "environment_version": "2"
   },
   "inputWidgetPreferences": null,
   "language": "python",
   "notebookMetadata": {
    "pythonIndentUnit": 4
   },
   "notebookName": "READ.md",
   "widgets": {}
  },
  "language_info": {
   "name": "python"
  }
 },
 "nbformat": 4,
 "nbformat_minor": 0
}
