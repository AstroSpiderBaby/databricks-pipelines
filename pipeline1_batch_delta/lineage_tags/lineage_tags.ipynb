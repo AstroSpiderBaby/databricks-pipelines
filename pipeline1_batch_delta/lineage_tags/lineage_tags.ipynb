{
 "cells": [
  {
   "cell_type": "code",
   "execution_count": 0,
   "metadata": {
    "application/vnd.databricks.v1+cell": {
     "cellMetadata": {
      "byteLimit": 2048000,
      "implicitDf": true,
      "rowLimit": 10000
     },
     "inputWidgets": {},
     "nuid": "2bbc9b4b-50b0-4b90-96ee-0a44d6e2d169",
     "showTitle": false,
     "tableResultSettingsMap": {},
     "title": ""
    }
   },
   "outputs": [],
   "source": [
    "%sql\n",
    "-- BRONZE\n",
    "ALTER TABLE thebetty.bronze.finances_invoices SET TAGS (\n",
    "  'layer'            = 'bronze',\n",
    "  'source_system'    = 'Navy ERP',\n",
    "  'ingestion_method' = 'ADF via JDBC',\n",
    "  'original_format'  = 'CSV',\n",
    "  'owner'            = 'Data Engineering',\n",
    "  'pii'              = 'no'\n",
    ");\n",
    "\n",
    "-- SILVER (joined/cleansed)\n",
    "ALTER TABLE thebetty.silver.vendor_registry_clean SET TAGS (\n",
    "  'layer'             = 'silver',\n",
    "  'domain'            = 'finance',\n",
    "  'dq_last_validated' = '2025-08-10',\n",
    "  'dq_validation_score' = '98',\n",
    "  'pii'               = 'no'\n",
    ");\n",
    "\n",
    "ALTER TABLE thebetty.silver.finance_with_vendor_info SET TAGS (\n",
    "  'layer'      = 'silver',\n",
    "  'domain'     = 'finance',\n",
    "  'use_case'   = 'vendor spend + compliance analytics',\n",
    "  'pii'        = 'no',\n",
    "  'security_level' = 'internal',\n",
    "  'compliance' = 'SOX'\n",
    ");\n",
    "\n",
    "-- GOLD (presentation)\n",
    "ALTER TABLE thebetty.gold.final_vendor_summary SET TAGS (\n",
    "  'layer'       = 'gold',\n",
    "  'domain'      = 'finance',\n",
    "  'use_case'    = 'vendor compliance reporting',\n",
    "  'owner'       = 'Finance Analytics Team',\n",
    "  'pii'         = 'no',\n",
    "  'pipeline_name' = 'pipeline1_batch_delta'\n",
    ");\n",
    "\n",
    "-- GOLD run log table (if you want it to appear in lineage w/ context)\n",
    "ALTER TABLE thebetty.gold.final_vendor_summary_runs SET TAGS (\n",
    "  'layer'       = 'gold',\n",
    "  'domain'      = 'governance',\n",
    "  'use_case'    = 'pipeline run audit',\n",
    "  'owner'       = 'Data Engineering'\n",
    ");\n",
    "\n",
    "-- OPTIONAL: a few column-level tags to make column lineage richer\n",
    "ALTER TABLE thebetty.gold.final_vendor_summary\n",
    "  ALTER COLUMN vendor_id        SET TAGS ('semantic_role'='business_key');\n",
    "ALTER TABLE thebetty.gold.final_vendor_summary\n",
    "  ALTER COLUMN compliance_score SET TAGS ('semantic_role'='quality_metric');\n",
    "ALTER TABLE thebetty.gold.final_vendor_summary\n",
    "  ALTER COLUMN onwatchlist      SET TAGS ('semantic_role'='risk_flag');\n"
   ]
  }
 ],
 "metadata": {
  "application/vnd.databricks.v1+notebook": {
   "computePreferences": null,
   "dashboards": [],
   "environmentMetadata": {
    "base_environment": "",
    "environment_version": "2"
   },
   "inputWidgetPreferences": null,
   "language": "python",
   "notebookMetadata": {
    "mostRecentlyExecutedCommandWithImplicitDF": {
     "commandId": 8093146872848351,
     "dataframes": [
      "_sqldf"
     ]
    },
    "pythonIndentUnit": 4
   },
   "notebookName": "lineage_tags",
   "widgets": {}
  },
  "language_info": {
   "name": "python"
  }
 },
 "nbformat": 4,
 "nbformat_minor": 0
}
