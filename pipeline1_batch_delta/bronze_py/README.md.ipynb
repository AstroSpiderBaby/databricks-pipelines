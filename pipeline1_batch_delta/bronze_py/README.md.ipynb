{
 "cells": [
  {
   "cell_type": "code",
   "execution_count": 0,
   "metadata": {
    "application/vnd.databricks.v1+cell": {
     "cellMetadata": {},
     "inputWidgets": {},
     "nuid": "0ec89cc2-34a1-4ede-b21b-1ab44dbf5d5b",
     "showTitle": false,
     "tableResultSettingsMap": {},
     "title": ""
    }
   },
   "outputs": [],
   "source": [
    "# 🟫 Bronze Layer\n",
    "\n",
    "This folder contains ingestion scripts that load **raw source data** into the **Bronze layer** of the Delta Lake architecture.\n",
    "\n",
    "Each `.py` notebook corresponds to a mock or real-world dataset (e.g., inventory, shipments, vendors, web forms), simulating ingestion patterns for testing and development.\n",
    "\n",
    "---\n",
    "\n",
    "## 📥 Key Characteristics\n",
    "\n",
    "- **Reads From:**\n",
    "  - Azure Blob Storage (`/mnt/external-ingest/`)\n",
    "  - Local SQL Server via **Ngrok** tunnel\n",
    "- **Writes To:**  \n",
    "  - Delta tables in `/mnt/delta/bronze/`\n",
    "- **Transformations:**  \n",
    "  - None — raw fidelity is preserved for traceability and auditability\n",
    "- **File Formats Supported:**  \n",
    "  - CSV, JSON, JDBC\n",
    "\n",
    "---\n",
    "\n",
    "## 📂 Included Scripts\n",
    "\n",
    "| Script Name                  | Description                                                                 |\n",
    "|-----------------------------|-----------------------------------------------------------------------------|\n",
    "| `bronze_ingest_inventory.py`         | Ingests inventory data from CSV (Azure Blob)                                |\n",
    "| `bronze_ingest_shipments.py`         | Loads shipment data from CSV (Azure Blob)                                   |\n",
    "| `bronze_ingest_vendors.py`           | Loads vendor records from CSV                                               |\n",
    "| `bronze_ingest_web_forms.py`         | Ingests multiline JSON-formatted web form submissions                       |\n",
    "| `bronze_ingest_finance_invoices.py`  | Loads invoice records from CSV                                              |\n",
    "| `bronze_ingest_vendor_compliance.py` | Pulls vendor compliance metadata from **fury161** SQL Server via JDBC tunnel |\n",
    "\n",
    "---\n",
    "\n",
    "🔙 [Back to Root README](../../README.md)\n"
   ]
  }
 ],
 "metadata": {
  "application/vnd.databricks.v1+notebook": {
   "computePreferences": null,
   "dashboards": [],
   "environmentMetadata": {
    "base_environment": "",
    "environment_version": "2"
   },
   "inputWidgetPreferences": null,
   "language": "python",
   "notebookMetadata": {
    "pythonIndentUnit": 4
   },
   "notebookName": "README.md",
   "widgets": {}
  },
  "language_info": {
   "name": "python"
  }
 },
 "nbformat": 4,
 "nbformat_minor": 0
}
